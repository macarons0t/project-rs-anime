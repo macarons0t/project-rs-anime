{
 "cells": [
  {
   "cell_type": "code",
   "execution_count": 11,
   "id": "ce33ceed",
   "metadata": {
    "execution": {
     "iopub.execute_input": "2025-06-25T23:12:30.156702Z",
     "iopub.status.busy": "2025-06-25T23:12:30.156266Z",
     "iopub.status.idle": "2025-06-25T23:12:30.325320Z",
     "shell.execute_reply": "2025-06-25T23:12:30.324078Z",
     "shell.execute_reply.started": "2025-06-25T23:12:30.156674Z"
    },
    "trusted": true
   },
   "outputs": [],
   "source": [
    "from sklearn.model_selection import train_test_split\n",
    "from sklearn.metrics import ndcg_score\n",
    "import pandas as pd\n",
    "import numpy as np\n",
    "from tqdm import tqdm\n",
    "from sklearn.metrics import ndcg_score, average_precision_score"
   ]
  },
  {
   "cell_type": "markdown",
   "id": "5221294a",
   "metadata": {},
   "source": [
    "## Loading"
   ]
  },
  {
   "cell_type": "code",
   "execution_count": 2,
   "id": "9ed8cbcb",
   "metadata": {
    "execution": {
     "iopub.execute_input": "2025-06-25T23:05:44.127276Z",
     "iopub.status.busy": "2025-06-25T23:05:44.126961Z",
     "iopub.status.idle": "2025-06-25T23:05:47.301248Z",
     "shell.execute_reply": "2025-06-25T23:05:47.299884Z",
     "shell.execute_reply.started": "2025-06-25T23:05:44.127252Z"
    },
    "trusted": true
   },
   "outputs": [],
   "source": [
    "anime = pd.read_csv('/kaggle/input/anime-recommendations-database/anime.csv', delimiter=',')\n",
    "rating = pd.read_csv('/kaggle/input/anime-recommendations-database/rating.csv', delimiter=',')\n"
   ]
  },
  {
   "cell_type": "code",
   "execution_count": 3,
   "id": "7ed5cb27",
   "metadata": {
    "execution": {
     "iopub.execute_input": "2025-06-25T23:05:49.443428Z",
     "iopub.status.busy": "2025-06-25T23:05:49.442187Z",
     "iopub.status.idle": "2025-06-25T23:05:49.448915Z",
     "shell.execute_reply": "2025-06-25T23:05:49.447879Z",
     "shell.execute_reply.started": "2025-06-25T23:05:49.443398Z"
    },
    "trusted": true
   },
   "outputs": [
    {
     "name": "stdout",
     "output_type": "stream",
     "text": [
      "(12294, 7)\n",
      "(7813737, 3)\n"
     ]
    }
   ],
   "source": [
    "print(anime.shape)\n",
    "print(rating.shape)"
   ]
  },
  {
   "cell_type": "code",
   "execution_count": 4,
   "id": "efcd92a5",
   "metadata": {
    "execution": {
     "iopub.execute_input": "2025-06-25T23:05:52.704147Z",
     "iopub.status.busy": "2025-06-25T23:05:52.703749Z",
     "iopub.status.idle": "2025-06-25T23:05:52.736618Z",
     "shell.execute_reply": "2025-06-25T23:05:52.735612Z",
     "shell.execute_reply.started": "2025-06-25T23:05:52.704117Z"
    },
    "trusted": true
   },
   "outputs": [
    {
     "data": {
      "text/html": [
       "<div>\n",
       "<style scoped>\n",
       "    .dataframe tbody tr th:only-of-type {\n",
       "        vertical-align: middle;\n",
       "    }\n",
       "\n",
       "    .dataframe tbody tr th {\n",
       "        vertical-align: top;\n",
       "    }\n",
       "\n",
       "    .dataframe thead th {\n",
       "        text-align: right;\n",
       "    }\n",
       "</style>\n",
       "<table border=\"1\" class=\"dataframe\">\n",
       "  <thead>\n",
       "    <tr style=\"text-align: right;\">\n",
       "      <th></th>\n",
       "      <th>anime_id</th>\n",
       "      <th>name</th>\n",
       "      <th>genre</th>\n",
       "      <th>type</th>\n",
       "      <th>episodes</th>\n",
       "      <th>rating</th>\n",
       "      <th>members</th>\n",
       "    </tr>\n",
       "  </thead>\n",
       "  <tbody>\n",
       "    <tr>\n",
       "      <th>0</th>\n",
       "      <td>32281</td>\n",
       "      <td>Kimi no Na wa.</td>\n",
       "      <td>Drama, Romance, School, Supernatural</td>\n",
       "      <td>Movie</td>\n",
       "      <td>1</td>\n",
       "      <td>9.37</td>\n",
       "      <td>200630</td>\n",
       "    </tr>\n",
       "    <tr>\n",
       "      <th>1</th>\n",
       "      <td>5114</td>\n",
       "      <td>Fullmetal Alchemist: Brotherhood</td>\n",
       "      <td>Action, Adventure, Drama, Fantasy, Magic, Mili...</td>\n",
       "      <td>TV</td>\n",
       "      <td>64</td>\n",
       "      <td>9.26</td>\n",
       "      <td>793665</td>\n",
       "    </tr>\n",
       "    <tr>\n",
       "      <th>2</th>\n",
       "      <td>28977</td>\n",
       "      <td>Gintama°</td>\n",
       "      <td>Action, Comedy, Historical, Parody, Samurai, S...</td>\n",
       "      <td>TV</td>\n",
       "      <td>51</td>\n",
       "      <td>9.25</td>\n",
       "      <td>114262</td>\n",
       "    </tr>\n",
       "    <tr>\n",
       "      <th>3</th>\n",
       "      <td>9253</td>\n",
       "      <td>Steins;Gate</td>\n",
       "      <td>Sci-Fi, Thriller</td>\n",
       "      <td>TV</td>\n",
       "      <td>24</td>\n",
       "      <td>9.17</td>\n",
       "      <td>673572</td>\n",
       "    </tr>\n",
       "    <tr>\n",
       "      <th>4</th>\n",
       "      <td>9969</td>\n",
       "      <td>Gintama&amp;#039;</td>\n",
       "      <td>Action, Comedy, Historical, Parody, Samurai, S...</td>\n",
       "      <td>TV</td>\n",
       "      <td>51</td>\n",
       "      <td>9.16</td>\n",
       "      <td>151266</td>\n",
       "    </tr>\n",
       "  </tbody>\n",
       "</table>\n",
       "</div>"
      ],
      "text/plain": [
       "   anime_id                              name  \\\n",
       "0     32281                    Kimi no Na wa.   \n",
       "1      5114  Fullmetal Alchemist: Brotherhood   \n",
       "2     28977                          Gintama°   \n",
       "3      9253                       Steins;Gate   \n",
       "4      9969                     Gintama&#039;   \n",
       "\n",
       "                                               genre   type episodes  rating  \\\n",
       "0               Drama, Romance, School, Supernatural  Movie        1    9.37   \n",
       "1  Action, Adventure, Drama, Fantasy, Magic, Mili...     TV       64    9.26   \n",
       "2  Action, Comedy, Historical, Parody, Samurai, S...     TV       51    9.25   \n",
       "3                                   Sci-Fi, Thriller     TV       24    9.17   \n",
       "4  Action, Comedy, Historical, Parody, Samurai, S...     TV       51    9.16   \n",
       "\n",
       "   members  \n",
       "0   200630  \n",
       "1   793665  \n",
       "2   114262  \n",
       "3   673572  \n",
       "4   151266  "
      ]
     },
     "execution_count": 4,
     "metadata": {},
     "output_type": "execute_result"
    }
   ],
   "source": [
    "anime.head()"
   ]
  },
  {
   "cell_type": "code",
   "execution_count": 5,
   "id": "29386933",
   "metadata": {
    "execution": {
     "iopub.execute_input": "2025-06-25T23:05:56.196849Z",
     "iopub.status.busy": "2025-06-25T23:05:56.196432Z",
     "iopub.status.idle": "2025-06-25T23:05:56.207720Z",
     "shell.execute_reply": "2025-06-25T23:05:56.206651Z",
     "shell.execute_reply.started": "2025-06-25T23:05:56.196820Z"
    },
    "trusted": true
   },
   "outputs": [
    {
     "data": {
      "text/html": [
       "<div>\n",
       "<style scoped>\n",
       "    .dataframe tbody tr th:only-of-type {\n",
       "        vertical-align: middle;\n",
       "    }\n",
       "\n",
       "    .dataframe tbody tr th {\n",
       "        vertical-align: top;\n",
       "    }\n",
       "\n",
       "    .dataframe thead th {\n",
       "        text-align: right;\n",
       "    }\n",
       "</style>\n",
       "<table border=\"1\" class=\"dataframe\">\n",
       "  <thead>\n",
       "    <tr style=\"text-align: right;\">\n",
       "      <th></th>\n",
       "      <th>user_id</th>\n",
       "      <th>anime_id</th>\n",
       "      <th>rating</th>\n",
       "    </tr>\n",
       "  </thead>\n",
       "  <tbody>\n",
       "    <tr>\n",
       "      <th>0</th>\n",
       "      <td>1</td>\n",
       "      <td>20</td>\n",
       "      <td>-1</td>\n",
       "    </tr>\n",
       "    <tr>\n",
       "      <th>1</th>\n",
       "      <td>1</td>\n",
       "      <td>24</td>\n",
       "      <td>-1</td>\n",
       "    </tr>\n",
       "    <tr>\n",
       "      <th>2</th>\n",
       "      <td>1</td>\n",
       "      <td>79</td>\n",
       "      <td>-1</td>\n",
       "    </tr>\n",
       "    <tr>\n",
       "      <th>3</th>\n",
       "      <td>1</td>\n",
       "      <td>226</td>\n",
       "      <td>-1</td>\n",
       "    </tr>\n",
       "    <tr>\n",
       "      <th>4</th>\n",
       "      <td>1</td>\n",
       "      <td>241</td>\n",
       "      <td>-1</td>\n",
       "    </tr>\n",
       "  </tbody>\n",
       "</table>\n",
       "</div>"
      ],
      "text/plain": [
       "   user_id  anime_id  rating\n",
       "0        1        20      -1\n",
       "1        1        24      -1\n",
       "2        1        79      -1\n",
       "3        1       226      -1\n",
       "4        1       241      -1"
      ]
     },
     "execution_count": 5,
     "metadata": {},
     "output_type": "execute_result"
    }
   ],
   "source": [
    "rating.head()"
   ]
  },
  {
   "cell_type": "code",
   "execution_count": 6,
   "id": "847e1192-bae8-421b-9308-cd8fde5d7221",
   "metadata": {
    "execution": {
     "iopub.execute_input": "2025-06-25T23:09:47.975830Z",
     "iopub.status.busy": "2025-06-25T23:09:47.974779Z",
     "iopub.status.idle": "2025-06-25T23:09:48.240655Z",
     "shell.execute_reply": "2025-06-25T23:09:48.239625Z",
     "shell.execute_reply.started": "2025-06-25T23:09:47.975790Z"
    },
    "trusted": true
   },
   "outputs": [
    {
     "name": "stdout",
     "output_type": "stream",
     "text": [
      "Original shape: (7813737, 3)\n",
      "After removing -1s: (6337241, 3)\n"
     ]
    }
   ],
   "source": [
    "# Clean ratings: remove or impute -1 ratings (unknown ratings)\n",
    "print(\"Original shape:\", rating.shape)\n",
    "rating_clean = rating[rating['rating'] != -1]  # remove -1s\n",
    "print(\"After removing -1s:\", rating_clean.shape)"
   ]
  },
  {
   "cell_type": "code",
   "execution_count": 13,
   "id": "9eb34659-c20d-4e7a-b504-0c2268f13d29",
   "metadata": {
    "execution": {
     "iopub.execute_input": "2025-06-25T23:13:54.249466Z",
     "iopub.status.busy": "2025-06-25T23:13:54.248934Z",
     "iopub.status.idle": "2025-06-25T23:13:57.094314Z",
     "shell.execute_reply": "2025-06-25T23:13:57.093145Z",
     "shell.execute_reply.started": "2025-06-25T23:13:54.249423Z"
    },
    "trusted": true
   },
   "outputs": [],
   "source": [
    "# Remove duplicate (user_id, anime_id) combinations by keeping the mean rating\n",
    "rating_clean = rating_clean.groupby(['user_id', 'anime_id']).agg({'rating': 'mean'}).reset_index()"
   ]
  },
  {
   "cell_type": "code",
   "execution_count": 14,
   "id": "08f7d1e0-a2ad-4433-b595-458606271dfc",
   "metadata": {
    "execution": {
     "iopub.execute_input": "2025-06-25T23:14:07.979277Z",
     "iopub.status.busy": "2025-06-25T23:14:07.978896Z",
     "iopub.status.idle": "2025-06-25T23:14:15.235646Z",
     "shell.execute_reply": "2025-06-25T23:14:15.234505Z",
     "shell.execute_reply.started": "2025-06-25T23:14:07.979250Z"
    },
    "trusted": true
   },
   "outputs": [],
   "source": [
    "# Create user-item matrix\n",
    "user_item_matrix = rating_clean.pivot(index='user_id', columns='anime_id', values='rating')"
   ]
  },
  {
   "cell_type": "code",
   "execution_count": 15,
   "id": "ca3ac438-d50b-4bb8-af1d-1b37438bdde9",
   "metadata": {
    "execution": {
     "iopub.execute_input": "2025-06-25T23:14:23.313378Z",
     "iopub.status.busy": "2025-06-25T23:14:23.313062Z",
     "iopub.status.idle": "2025-06-25T23:14:33.717120Z",
     "shell.execute_reply": "2025-06-25T23:14:33.715879Z",
     "shell.execute_reply.started": "2025-06-25T23:14:23.313347Z"
    },
    "trusted": true
   },
   "outputs": [],
   "source": [
    "# Split into train and test\n",
    "train, test = train_test_split(rating_clean, test_size=0.2, random_state=42)\n",
    "train_matrix = train.pivot(index='user_id', columns='anime_id', values='rating')"
   ]
  },
  {
   "cell_type": "code",
   "execution_count": 16,
   "id": "c879499d-dda8-403e-8342-cf9b92d230e4",
   "metadata": {
    "execution": {
     "iopub.execute_input": "2025-06-25T23:14:44.750663Z",
     "iopub.status.busy": "2025-06-25T23:14:44.750200Z",
     "iopub.status.idle": "2025-06-25T23:14:44.757343Z",
     "shell.execute_reply": "2025-06-25T23:14:44.755934Z",
     "shell.execute_reply.started": "2025-06-25T23:14:44.750637Z"
    },
    "trusted": true
   },
   "outputs": [],
   "source": [
    "# Simple user-based CF (mean rating of similar users)\n",
    "def predict_rating(user_id, anime_id):\n",
    "    if user_id not in train_matrix.index or anime_id not in train_matrix.columns:\n",
    "        return np.nan\n",
    "\n",
    "    user_ratings = train_matrix.loc[user_id]\n",
    "    similar_users = train_matrix[anime_id].dropna().index\n",
    "    if len(similar_users) == 0:\n",
    "        return np.nan\n",
    "\n",
    "    return train_matrix.loc[similar_users, anime_id].mean()"
   ]
  },
  {
   "cell_type": "code",
   "execution_count": 23,
   "id": "3c97708d-fbc9-4c41-8f0b-043b163aeb64",
   "metadata": {
    "execution": {
     "iopub.execute_input": "2025-06-25T23:17:54.231336Z",
     "iopub.status.busy": "2025-06-25T23:17:54.230835Z",
     "iopub.status.idle": "2025-06-25T23:17:54.250707Z",
     "shell.execute_reply": "2025-06-25T23:17:54.249236Z",
     "shell.execute_reply.started": "2025-06-25T23:17:54.231301Z"
    },
    "trusted": true
   },
   "outputs": [],
   "source": [
    "# Evaluation function with ranked list simulation\n",
    "def evaluate(test_df, k=10):\n",
    "    grouped = test_df.groupby('user_id')\n",
    "    ndcg_scores = []\n",
    "    map_scores = []\n",
    "\n",
    "    for user_id, group in tqdm(grouped):\n",
    "        true_animes = group['anime_id'].tolist()\n",
    "        true_ratings = group['rating'].tolist()\n",
    "\n",
    "        scored_items = []\n",
    "        for anime_id, true_rating in zip(true_animes, true_ratings):\n",
    "            pred = predict_rating(user_id, anime_id)\n",
    "            if np.isnan(pred):\n",
    "                continue\n",
    "            scored_items.append((anime_id, true_rating, pred))\n",
    "\n",
    "        if len(scored_items) < 2:\n",
    "            continue\n",
    "\n",
    "        # Sort by predicted score\n",
    "        scored_items.sort(key=lambda x: x[2], reverse=True)\n",
    "\n",
    "        # Select top-k\n",
    "        top_k = scored_items[:k]\n",
    "        true_relevance = [x[1] for x in top_k]  # real ratings as relevance\n",
    "        predicted_scores = [x[2] for x in top_k]\n",
    "\n",
    "        # Convert to required format (2D arrays)\n",
    "        ndcg = ndcg_score([true_relevance], [predicted_scores], k=k)\n",
    "        ndcg_scores.append(ndcg)\n",
    "\n",
    "        # For MAP, convert true_relevance to binary: 1 if rating >= 7 else 0\n",
    "        binary_relevance = [1 if r >= 7 else 0 for r in true_relevance]\n",
    "        try:\n",
    "            ap = average_precision_score(binary_relevance, predicted_scores)\n",
    "            map_scores.append(ap)\n",
    "        except ValueError:\n",
    "            continue\n",
    "\n",
    "    return np.mean(map_scores), np.mean(ndcg_scores)"
   ]
  },
  {
   "cell_type": "code",
   "execution_count": null,
   "id": "505aa40a-3a41-4e6b-99c2-433ae8482bde",
   "metadata": {
    "execution": {
     "iopub.execute_input": "2025-06-25T23:18:07.286720Z",
     "iopub.status.busy": "2025-06-25T23:18:07.286291Z",
     "iopub.status.idle": "2025-06-26T00:21:38.170718Z",
     "shell.execute_reply": "2025-06-26T00:21:38.169458Z",
     "shell.execute_reply.started": "2025-06-25T23:18:07.286694Z"
    },
    "trusted": true
   },
   "outputs": [
    {
     "name": "stderr",
     "output_type": "stream",
     "text": [
      "  1%|          | 430/62390 [00:23<1:01:49, 16.70it/s]/usr/local/lib/python3.11/dist-packages/sklearn/metrics/_ranking.py:891: UserWarning: No positive class found in y_true, recall is set to one for all thresholds.\n",
      "  warnings.warn(\n",
      "  3%|▎         | 1798/62390 [01:43<1:01:08, 16.52it/s]/usr/local/lib/python3.11/dist-packages/sklearn/metrics/_ranking.py:891: UserWarning: No positive class found in y_true, recall is set to one for all thresholds.\n",
      "  warnings.warn(\n",
      "  4%|▍         | 2413/62390 [02:14<43:11, 23.14it/s]  /usr/local/lib/python3.11/dist-packages/sklearn/metrics/_ranking.py:891: UserWarning: No positive class found in y_true, recall is set to one for all thresholds.\n",
      "  warnings.warn(\n",
      "  5%|▍         | 3004/62390 [02:52<1:12:13, 13.71it/s]/usr/local/lib/python3.11/dist-packages/sklearn/metrics/_ranking.py:891: UserWarning: No positive class found in y_true, recall is set to one for all thresholds.\n",
      "  warnings.warn(\n",
      "  7%|▋         | 4491/62390 [04:26<1:09:11, 13.95it/s]/usr/local/lib/python3.11/dist-packages/sklearn/metrics/_ranking.py:891: UserWarning: No positive class found in y_true, recall is set to one for all thresholds.\n",
      "  warnings.warn(\n",
      "  8%|▊         | 4969/62390 [05:05<58:19, 16.41it/s]  /usr/local/lib/python3.11/dist-packages/sklearn/metrics/_ranking.py:891: UserWarning: No positive class found in y_true, recall is set to one for all thresholds.\n",
      "  warnings.warn(\n",
      " 11%|█         | 6921/62390 [07:39<2:26:26,  6.31it/s]/usr/local/lib/python3.11/dist-packages/sklearn/metrics/_ranking.py:891: UserWarning: No positive class found in y_true, recall is set to one for all thresholds.\n",
      "  warnings.warn(\n",
      " 11%|█▏        | 7044/62390 [07:48<47:32, 19.41it/s]  /usr/local/lib/python3.11/dist-packages/sklearn/metrics/_ranking.py:891: UserWarning: No positive class found in y_true, recall is set to one for all thresholds.\n",
      "  warnings.warn(\n",
      " 12%|█▏        | 7589/62390 [08:15<42:39, 21.41it/s]  /usr/local/lib/python3.11/dist-packages/sklearn/metrics/_ranking.py:891: UserWarning: No positive class found in y_true, recall is set to one for all thresholds.\n",
      "  warnings.warn(\n",
      " 13%|█▎        | 8255/62390 [08:45<37:59, 23.75it/s]  /usr/local/lib/python3.11/dist-packages/sklearn/metrics/_ranking.py:891: UserWarning: No positive class found in y_true, recall is set to one for all thresholds.\n",
      "  warnings.warn(\n",
      " 14%|█▎        | 8544/62390 [08:59<46:17, 19.38it/s]  /usr/local/lib/python3.11/dist-packages/sklearn/metrics/_ranking.py:891: UserWarning: No positive class found in y_true, recall is set to one for all thresholds.\n",
      "  warnings.warn(\n",
      " 14%|█▍        | 8720/62390 [09:10<1:26:14, 10.37it/s]/usr/local/lib/python3.11/dist-packages/sklearn/metrics/_ranking.py:891: UserWarning: No positive class found in y_true, recall is set to one for all thresholds.\n",
      "  warnings.warn(\n",
      " 14%|█▍        | 8962/62390 [09:26<52:24, 16.99it/s]  /usr/local/lib/python3.11/dist-packages/sklearn/metrics/_ranking.py:891: UserWarning: No positive class found in y_true, recall is set to one for all thresholds.\n",
      "  warnings.warn(\n",
      " 17%|█▋        | 10607/62390 [11:14<41:39, 20.72it/s]  /usr/local/lib/python3.11/dist-packages/sklearn/metrics/_ranking.py:891: UserWarning: No positive class found in y_true, recall is set to one for all thresholds.\n",
      "  warnings.warn(\n",
      " 18%|█▊        | 11188/62390 [11:46<54:29, 15.66it/s]  /usr/local/lib/python3.11/dist-packages/sklearn/metrics/_ranking.py:891: UserWarning: No positive class found in y_true, recall is set to one for all thresholds.\n",
      "  warnings.warn(\n",
      " 18%|█▊        | 11355/62390 [11:56<43:38, 19.49it/s]  /usr/local/lib/python3.11/dist-packages/sklearn/metrics/_ranking.py:891: UserWarning: No positive class found in y_true, recall is set to one for all thresholds.\n",
      "  warnings.warn(\n",
      " 19%|█▉        | 11843/62390 [12:23<1:09:42, 12.09it/s]/usr/local/lib/python3.11/dist-packages/sklearn/metrics/_ranking.py:891: UserWarning: No positive class found in y_true, recall is set to one for all thresholds.\n",
      "  warnings.warn(\n",
      " 20%|█▉        | 12251/62390 [12:46<42:57, 19.45it/s]  /usr/local/lib/python3.11/dist-packages/sklearn/metrics/_ranking.py:891: UserWarning: No positive class found in y_true, recall is set to one for all thresholds.\n",
      "  warnings.warn(\n",
      " 20%|██        | 12554/62390 [13:03<55:40, 14.92it/s]  /usr/local/lib/python3.11/dist-packages/sklearn/metrics/_ranking.py:891: UserWarning: No positive class found in y_true, recall is set to one for all thresholds.\n",
      "  warnings.warn(\n",
      " 22%|██▏       | 13572/62390 [14:01<43:06, 18.87it/s]  /usr/local/lib/python3.11/dist-packages/sklearn/metrics/_ranking.py:891: UserWarning: No positive class found in y_true, recall is set to one for all thresholds.\n",
      "  warnings.warn(\n",
      " 23%|██▎       | 14264/62390 [14:44<42:54, 18.69it/s]  /usr/local/lib/python3.11/dist-packages/sklearn/metrics/_ranking.py:891: UserWarning: No positive class found in y_true, recall is set to one for all thresholds.\n",
      "  warnings.warn(\n",
      " 24%|██▍       | 15142/62390 [15:39<52:05, 15.12it/s]  /usr/local/lib/python3.11/dist-packages/sklearn/metrics/_ranking.py:891: UserWarning: No positive class found in y_true, recall is set to one for all thresholds.\n",
      "  warnings.warn(\n",
      " 25%|██▌       | 15713/62390 [16:10<40:41, 19.12it/s]  /usr/local/lib/python3.11/dist-packages/sklearn/metrics/_ranking.py:891: UserWarning: No positive class found in y_true, recall is set to one for all thresholds.\n",
      "  warnings.warn(\n",
      " 25%|██▌       | 15884/62390 [16:20<48:06, 16.11it/s]  /usr/local/lib/python3.11/dist-packages/sklearn/metrics/_ranking.py:891: UserWarning: No positive class found in y_true, recall is set to one for all thresholds.\n",
      "  warnings.warn(\n",
      " 27%|██▋       | 16812/62390 [17:18<37:21, 20.33it/s]  /usr/local/lib/python3.11/dist-packages/sklearn/metrics/_ranking.py:891: UserWarning: No positive class found in y_true, recall is set to one for all thresholds.\n",
      "  warnings.warn(\n",
      " 27%|██▋       | 16990/62390 [17:28<28:57, 26.13it/s]  /usr/local/lib/python3.11/dist-packages/sklearn/metrics/_ranking.py:891: UserWarning: No positive class found in y_true, recall is set to one for all thresholds.\n",
      "  warnings.warn(\n",
      " 31%|███       | 19434/62390 [20:07<43:02, 16.63it/s]  /usr/local/lib/python3.11/dist-packages/sklearn/metrics/_ranking.py:891: UserWarning: No positive class found in y_true, recall is set to one for all thresholds.\n",
      "  warnings.warn(\n",
      " 32%|███▏      | 19684/62390 [20:23<44:40, 15.93it/s]  /usr/local/lib/python3.11/dist-packages/sklearn/metrics/_ranking.py:891: UserWarning: No positive class found in y_true, recall is set to one for all thresholds.\n",
      "  warnings.warn(\n",
      " 33%|███▎      | 20290/62390 [21:06<41:12, 17.03it/s]  /usr/local/lib/python3.11/dist-packages/sklearn/metrics/_ranking.py:891: UserWarning: No positive class found in y_true, recall is set to one for all thresholds.\n",
      "  warnings.warn(\n",
      " 33%|███▎      | 20504/62390 [21:20<54:20, 12.85it/s]  /usr/local/lib/python3.11/dist-packages/sklearn/metrics/_ranking.py:891: UserWarning: No positive class found in y_true, recall is set to one for all thresholds.\n",
      "  warnings.warn(\n",
      " 34%|███▎      | 20920/62390 [21:48<32:26, 21.30it/s]  /usr/local/lib/python3.11/dist-packages/sklearn/metrics/_ranking.py:891: UserWarning: No positive class found in y_true, recall is set to one for all thresholds.\n",
      "  warnings.warn(\n",
      " 35%|███▍      | 21693/62390 [22:40<53:18, 12.72it/s]  /usr/local/lib/python3.11/dist-packages/sklearn/metrics/_ranking.py:891: UserWarning: No positive class found in y_true, recall is set to one for all thresholds.\n",
      "  warnings.warn(\n",
      " 35%|███▍      | 21780/62390 [22:45<41:22, 16.36it/s]  /usr/local/lib/python3.11/dist-packages/sklearn/metrics/_ranking.py:891: UserWarning: No positive class found in y_true, recall is set to one for all thresholds.\n",
      "  warnings.warn(\n",
      " 36%|███▌      | 22335/62390 [23:23<38:07, 17.51it/s]  /usr/local/lib/python3.11/dist-packages/sklearn/metrics/_ranking.py:891: UserWarning: No positive class found in y_true, recall is set to one for all thresholds.\n",
      "  warnings.warn(\n",
      " 38%|███▊      | 23481/62390 [24:44<50:54, 12.74it/s]  /usr/local/lib/python3.11/dist-packages/sklearn/metrics/_ranking.py:891: UserWarning: No positive class found in y_true, recall is set to one for all thresholds.\n",
      "  warnings.warn(\n",
      " 38%|███▊      | 23532/62390 [24:48<37:00, 17.50it/s]  /usr/local/lib/python3.11/dist-packages/sklearn/metrics/_ranking.py:891: UserWarning: No positive class found in y_true, recall is set to one for all thresholds.\n",
      "  warnings.warn(\n",
      " 39%|███▊      | 24129/62390 [25:26<32:09, 19.83it/s]  /usr/local/lib/python3.11/dist-packages/sklearn/metrics/_ranking.py:891: UserWarning: No positive class found in y_true, recall is set to one for all thresholds.\n",
      "  warnings.warn(\n",
      " 39%|███▊      | 24141/62390 [25:27<56:36, 11.26it/s]/usr/local/lib/python3.11/dist-packages/sklearn/metrics/_ranking.py:891: UserWarning: No positive class found in y_true, recall is set to one for all thresholds.\n",
      "  warnings.warn(\n",
      " 39%|███▉      | 24622/62390 [25:59<22:14, 28.30it/s]  /usr/local/lib/python3.11/dist-packages/sklearn/metrics/_ranking.py:891: UserWarning: No positive class found in y_true, recall is set to one for all thresholds.\n",
      "  warnings.warn(\n",
      " 40%|████      | 25131/62390 [26:31<32:32, 19.09it/s]  /usr/local/lib/python3.11/dist-packages/sklearn/metrics/_ranking.py:891: UserWarning: No positive class found in y_true, recall is set to one for all thresholds.\n",
      "  warnings.warn(\n",
      " 40%|████      | 25248/62390 [26:36<33:06, 18.70it/s]/usr/local/lib/python3.11/dist-packages/sklearn/metrics/_ranking.py:891: UserWarning: No positive class found in y_true, recall is set to one for all thresholds.\n",
      "  warnings.warn(\n",
      " 42%|████▏     | 26235/62390 [27:39<37:11, 16.20it/s]  /usr/local/lib/python3.11/dist-packages/sklearn/metrics/_ranking.py:891: UserWarning: No positive class found in y_true, recall is set to one for all thresholds.\n",
      "  warnings.warn(\n",
      " 45%|████▌     | 28374/62390 [29:35<17:14, 32.88it/s]  /usr/local/lib/python3.11/dist-packages/sklearn/metrics/_ranking.py:891: UserWarning: No positive class found in y_true, recall is set to one for all thresholds.\n",
      "  warnings.warn(\n",
      " 46%|████▌     | 28554/62390 [29:45<30:53, 18.25it/s]  /usr/local/lib/python3.11/dist-packages/sklearn/metrics/_ranking.py:891: UserWarning: No positive class found in y_true, recall is set to one for all thresholds.\n",
      "  warnings.warn(\n",
      " 46%|████▌     | 28558/62390 [29:45<26:02, 21.66it/s]/usr/local/lib/python3.11/dist-packages/sklearn/metrics/_ranking.py:891: UserWarning: No positive class found in y_true, recall is set to one for all thresholds.\n",
      "  warnings.warn(\n",
      " 47%|████▋     | 29218/62390 [30:17<23:32, 23.48it/s]  /usr/local/lib/python3.11/dist-packages/sklearn/metrics/_ranking.py:891: UserWarning: No positive class found in y_true, recall is set to one for all thresholds.\n",
      "  warnings.warn(\n",
      " 47%|████▋     | 29490/62390 [30:33<32:31, 16.86it/s]/usr/local/lib/python3.11/dist-packages/sklearn/metrics/_ranking.py:891: UserWarning: No positive class found in y_true, recall is set to one for all thresholds.\n",
      "  warnings.warn(\n",
      " 48%|████▊     | 30115/62390 [31:12<27:14, 19.74it/s]  /usr/local/lib/python3.11/dist-packages/sklearn/metrics/_ranking.py:891: UserWarning: No positive class found in y_true, recall is set to one for all thresholds.\n",
      "  warnings.warn(\n",
      " 49%|████▉     | 30553/62390 [31:33<26:43, 19.86it/s]/usr/local/lib/python3.11/dist-packages/sklearn/metrics/_ranking.py:891: UserWarning: No positive class found in y_true, recall is set to one for all thresholds.\n",
      "  warnings.warn(\n",
      " 50%|█████     | 31200/62390 [32:05<16:10, 32.14it/s]/usr/local/lib/python3.11/dist-packages/sklearn/metrics/_ranking.py:891: UserWarning: No positive class found in y_true, recall is set to one for all thresholds.\n",
      "  warnings.warn(\n",
      " 50%|█████     | 31283/62390 [32:09<25:14, 20.54it/s]/usr/local/lib/python3.11/dist-packages/sklearn/metrics/_ranking.py:891: UserWarning: No positive class found in y_true, recall is set to one for all thresholds.\n",
      "  warnings.warn(\n",
      " 52%|█████▏    | 32221/62390 [32:56<33:42, 14.91it/s]  /usr/local/lib/python3.11/dist-packages/sklearn/metrics/_ranking.py:891: UserWarning: No positive class found in y_true, recall is set to one for all thresholds.\n",
      "  warnings.warn(\n",
      " 52%|█████▏    | 32651/62390 [33:19<18:14, 27.18it/s]/usr/local/lib/python3.11/dist-packages/sklearn/metrics/_ranking.py:891: UserWarning: No positive class found in y_true, recall is set to one for all thresholds.\n",
      "  warnings.warn(\n",
      " 54%|█████▎    | 33453/62390 [34:10<39:03, 12.35it/s]  /usr/local/lib/python3.11/dist-packages/sklearn/metrics/_ranking.py:891: UserWarning: No positive class found in y_true, recall is set to one for all thresholds.\n",
      "  warnings.warn(\n",
      " 54%|█████▍    | 33587/62390 [34:21<36:25, 13.18it/s]  /usr/local/lib/python3.11/dist-packages/sklearn/metrics/_ranking.py:891: UserWarning: No positive class found in y_true, recall is set to one for all thresholds.\n",
      "  warnings.warn(\n",
      " 54%|█████▍    | 33850/62390 [34:36<32:20, 14.71it/s]/usr/local/lib/python3.11/dist-packages/sklearn/metrics/_ranking.py:891: UserWarning: No positive class found in y_true, recall is set to one for all thresholds.\n",
      "  warnings.warn(\n",
      " 55%|█████▌    | 34481/62390 [35:15<29:08, 15.96it/s]  /usr/local/lib/python3.11/dist-packages/sklearn/metrics/_ranking.py:891: UserWarning: No positive class found in y_true, recall is set to one for all thresholds.\n",
      "  warnings.warn(\n",
      " 58%|█████▊    | 35983/62390 [36:41<19:10, 22.96it/s]/usr/local/lib/python3.11/dist-packages/sklearn/metrics/_ranking.py:891: UserWarning: No positive class found in y_true, recall is set to one for all thresholds.\n",
      "  warnings.warn(\n",
      " 58%|█████▊    | 36450/62390 [37:03<19:03, 22.69it/s]  /usr/local/lib/python3.11/dist-packages/sklearn/metrics/_ranking.py:891: UserWarning: No positive class found in y_true, recall is set to one for all thresholds.\n",
      "  warnings.warn(\n",
      " 58%|█████▊    | 36456/62390 [37:03<25:13, 17.13it/s]/usr/local/lib/python3.11/dist-packages/sklearn/metrics/_ranking.py:891: UserWarning: No positive class found in y_true, recall is set to one for all thresholds.\n",
      "  warnings.warn(\n",
      " 59%|█████▊    | 36613/62390 [37:10<15:29, 27.74it/s]/usr/local/lib/python3.11/dist-packages/sklearn/metrics/_ranking.py:891: UserWarning: No positive class found in y_true, recall is set to one for all thresholds.\n",
      "  warnings.warn(\n",
      " 61%|██████    | 37931/62390 [38:20<33:22, 12.21it/s]/usr/local/lib/python3.11/dist-packages/sklearn/metrics/_ranking.py:891: UserWarning: No positive class found in y_true, recall is set to one for all thresholds.\n",
      "  warnings.warn(\n",
      " 61%|██████    | 37979/62390 [38:23<35:16, 11.53it/s]/usr/local/lib/python3.11/dist-packages/sklearn/metrics/_ranking.py:891: UserWarning: No positive class found in y_true, recall is set to one for all thresholds.\n",
      "  warnings.warn(\n",
      " 61%|██████    | 38136/62390 [38:35<36:25, 11.10it/s]/usr/local/lib/python3.11/dist-packages/sklearn/metrics/_ranking.py:891: UserWarning: No positive class found in y_true, recall is set to one for all thresholds.\n",
      "  warnings.warn(\n",
      " 61%|██████▏   | 38215/62390 [38:41<34:22, 11.72it/s]/usr/local/lib/python3.11/dist-packages/sklearn/metrics/_ranking.py:891: UserWarning: No positive class found in y_true, recall is set to one for all thresholds.\n",
      "  warnings.warn(\n",
      " 63%|██████▎   | 39180/62390 [39:40<22:57, 16.85it/s]  /usr/local/lib/python3.11/dist-packages/sklearn/metrics/_ranking.py:891: UserWarning: No positive class found in y_true, recall is set to one for all thresholds.\n",
      "  warnings.warn(\n",
      " 63%|██████▎   | 39191/62390 [39:40<16:04, 24.05it/s]/usr/local/lib/python3.11/dist-packages/sklearn/metrics/_ranking.py:891: UserWarning: No positive class found in y_true, recall is set to one for all thresholds.\n",
      "  warnings.warn(\n",
      " 63%|██████▎   | 39366/62390 [39:50<14:57, 25.66it/s]/usr/local/lib/python3.11/dist-packages/sklearn/metrics/_ranking.py:891: UserWarning: No positive class found in y_true, recall is set to one for all thresholds.\n",
      "  warnings.warn(\n",
      " 63%|██████▎   | 39597/62390 [40:00<14:33, 26.09it/s]/usr/local/lib/python3.11/dist-packages/sklearn/metrics/_ranking.py:891: UserWarning: No positive class found in y_true, recall is set to one for all thresholds.\n",
      "  warnings.warn(\n",
      " 63%|██████▎   | 39602/62390 [40:00<13:16, 28.61it/s]/usr/local/lib/python3.11/dist-packages/sklearn/metrics/_ranking.py:891: UserWarning: No positive class found in y_true, recall is set to one for all thresholds.\n",
      "  warnings.warn(\n",
      " 64%|██████▎   | 39689/62390 [40:03<11:24, 33.16it/s]/usr/local/lib/python3.11/dist-packages/sklearn/metrics/_ranking.py:891: UserWarning: No positive class found in y_true, recall is set to one for all thresholds.\n",
      "  warnings.warn(\n",
      " 65%|██████▍   | 40270/62390 [40:33<14:02, 26.26it/s]/usr/local/lib/python3.11/dist-packages/sklearn/metrics/_ranking.py:891: UserWarning: No positive class found in y_true, recall is set to one for all thresholds.\n",
      "  warnings.warn(\n",
      " 66%|██████▌   | 41082/62390 [41:24<19:18, 18.40it/s]/usr/local/lib/python3.11/dist-packages/sklearn/metrics/_ranking.py:891: UserWarning: No positive class found in y_true, recall is set to one for all thresholds.\n",
      "  warnings.warn(\n",
      " 67%|██████▋   | 41516/62390 [41:49<29:41, 11.72it/s]/usr/local/lib/python3.11/dist-packages/sklearn/metrics/_ranking.py:891: UserWarning: No positive class found in y_true, recall is set to one for all thresholds.\n",
      "  warnings.warn(\n",
      " 71%|███████▏  | 44540/62390 [45:26<27:23, 10.86it/s]  /usr/local/lib/python3.11/dist-packages/sklearn/metrics/_ranking.py:891: UserWarning: No positive class found in y_true, recall is set to one for all thresholds.\n",
      "  warnings.warn(\n",
      " 73%|███████▎  | 45253/62390 [46:14<13:19, 21.44it/s]/usr/local/lib/python3.11/dist-packages/sklearn/metrics/_ranking.py:891: UserWarning: No positive class found in y_true, recall is set to one for all thresholds.\n",
      "  warnings.warn(\n",
      " 73%|███████▎  | 45348/62390 [46:20<17:56, 15.83it/s]/usr/local/lib/python3.11/dist-packages/sklearn/metrics/_ranking.py:891: UserWarning: No positive class found in y_true, recall is set to one for all thresholds.\n",
      "  warnings.warn(\n",
      " 73%|███████▎  | 45533/62390 [46:33<14:19, 19.62it/s]/usr/local/lib/python3.11/dist-packages/sklearn/metrics/_ranking.py:891: UserWarning: No positive class found in y_true, recall is set to one for all thresholds.\n",
      "  warnings.warn(\n",
      " 75%|███████▍  | 46626/62390 [47:46<10:30, 25.01it/s]/usr/local/lib/python3.11/dist-packages/sklearn/metrics/_ranking.py:891: UserWarning: No positive class found in y_true, recall is set to one for all thresholds.\n",
      "  warnings.warn(\n",
      " 75%|███████▍  | 46655/62390 [47:48<14:50, 17.66it/s]/usr/local/lib/python3.11/dist-packages/sklearn/metrics/_ranking.py:891: UserWarning: No positive class found in y_true, recall is set to one for all thresholds.\n",
      "  warnings.warn(\n",
      " 76%|███████▌  | 47486/62390 [48:31<11:24, 21.76it/s]/usr/local/lib/python3.11/dist-packages/sklearn/metrics/_ranking.py:891: UserWarning: No positive class found in y_true, recall is set to one for all thresholds.\n",
      "  warnings.warn(\n",
      " 78%|███████▊  | 48384/62390 [49:24<14:32, 16.05it/s]/usr/local/lib/python3.11/dist-packages/sklearn/metrics/_ranking.py:891: UserWarning: No positive class found in y_true, recall is set to one for all thresholds.\n",
      "  warnings.warn(\n",
      " 80%|████████  | 50068/62390 [51:35<24:58,  8.23it/s]  /usr/local/lib/python3.11/dist-packages/sklearn/metrics/_ranking.py:891: UserWarning: No positive class found in y_true, recall is set to one for all thresholds.\n",
      "  warnings.warn(\n",
      " 81%|████████  | 50532/62390 [52:09<21:19,  9.27it/s]/usr/local/lib/python3.11/dist-packages/sklearn/metrics/_ranking.py:891: UserWarning: No positive class found in y_true, recall is set to one for all thresholds.\n",
      "  warnings.warn(\n",
      " 82%|████████▏ | 50904/62390 [52:38<10:14, 18.71it/s]/usr/local/lib/python3.11/dist-packages/sklearn/metrics/_ranking.py:891: UserWarning: No positive class found in y_true, recall is set to one for all thresholds.\n",
      "  warnings.warn(\n",
      " 84%|████████▍ | 52470/62390 [54:19<07:49, 21.11it/s]/usr/local/lib/python3.11/dist-packages/sklearn/metrics/_ranking.py:891: UserWarning: No positive class found in y_true, recall is set to one for all thresholds.\n",
      "  warnings.warn(\n",
      " 84%|████████▍ | 52650/62390 [54:29<05:47, 28.02it/s]/usr/local/lib/python3.11/dist-packages/sklearn/metrics/_ranking.py:891: UserWarning: No positive class found in y_true, recall is set to one for all thresholds.\n",
      "  warnings.warn(\n",
      " 85%|████████▍ | 52936/62390 [54:44<06:17, 25.08it/s]/usr/local/lib/python3.11/dist-packages/sklearn/metrics/_ranking.py:891: UserWarning: No positive class found in y_true, recall is set to one for all thresholds.\n",
      "  warnings.warn(\n",
      " 90%|████████▉ | 56042/62390 [57:27<05:11, 20.39it/s]/usr/local/lib/python3.11/dist-packages/sklearn/metrics/_ranking.py:891: UserWarning: No positive class found in y_true, recall is set to one for all thresholds.\n",
      "  warnings.warn(\n",
      " 91%|█████████ | 56622/62390 [58:05<06:21, 15.12it/s]/usr/local/lib/python3.11/dist-packages/sklearn/metrics/_ranking.py:891: UserWarning: No positive class found in y_true, recall is set to one for all thresholds.\n",
      "  warnings.warn(\n",
      " 91%|█████████ | 56709/62390 [58:11<06:22, 14.84it/s]/usr/local/lib/python3.11/dist-packages/sklearn/metrics/_ranking.py:891: UserWarning: No positive class found in y_true, recall is set to one for all thresholds.\n",
      "  warnings.warn(\n",
      " 92%|█████████▏| 57089/62390 [58:33<07:27, 11.85it/s]/usr/local/lib/python3.11/dist-packages/sklearn/metrics/_ranking.py:891: UserWarning: No positive class found in y_true, recall is set to one for all thresholds.\n",
      "  warnings.warn(\n",
      " 93%|█████████▎| 57979/62390 [59:30<06:23, 11.51it/s]/usr/local/lib/python3.11/dist-packages/sklearn/metrics/_ranking.py:891: UserWarning: No positive class found in y_true, recall is set to one for all thresholds.\n",
      "  warnings.warn(\n",
      " 93%|█████████▎| 58200/62390 [59:42<03:38, 19.20it/s]/usr/local/lib/python3.11/dist-packages/sklearn/metrics/_ranking.py:891: UserWarning: No positive class found in y_true, recall is set to one for all thresholds.\n",
      "  warnings.warn(\n",
      " 93%|█████████▎| 58293/62390 [59:47<02:43, 25.07it/s]/usr/local/lib/python3.11/dist-packages/sklearn/metrics/_ranking.py:891: UserWarning: No positive class found in y_true, recall is set to one for all thresholds.\n",
      "  warnings.warn(\n",
      " 94%|█████████▎| 58488/62390 [59:57<02:25, 26.87it/s]/usr/local/lib/python3.11/dist-packages/sklearn/metrics/_ranking.py:891: UserWarning: No positive class found in y_true, recall is set to one for all thresholds.\n",
      "  warnings.warn(\n",
      " 95%|█████████▍| 59092/62390 [1:00:31<02:17, 23.95it/s]/usr/local/lib/python3.11/dist-packages/sklearn/metrics/_ranking.py:891: UserWarning: No positive class found in y_true, recall is set to one for all thresholds.\n",
      "  warnings.warn(\n",
      " 95%|█████████▌| 59426/62390 [1:00:46<02:50, 17.39it/s]/usr/local/lib/python3.11/dist-packages/sklearn/metrics/_ranking.py:891: UserWarning: No positive class found in y_true, recall is set to one for all thresholds.\n",
      "  warnings.warn(\n",
      " 96%|█████████▌| 59834/62390 [1:01:08<03:21, 12.71it/s]/usr/local/lib/python3.11/dist-packages/sklearn/metrics/_ranking.py:891: UserWarning: No positive class found in y_true, recall is set to one for all thresholds.\n",
      "  warnings.warn(\n",
      " 96%|█████████▋| 60199/62390 [1:01:27<01:36, 22.73it/s]/usr/local/lib/python3.11/dist-packages/sklearn/metrics/_ranking.py:891: UserWarning: No positive class found in y_true, recall is set to one for all thresholds.\n",
      "  warnings.warn(\n",
      " 97%|█████████▋| 60492/62390 [1:01:43<01:37, 19.51it/s]/usr/local/lib/python3.11/dist-packages/sklearn/metrics/_ranking.py:891: UserWarning: No positive class found in y_true, recall is set to one for all thresholds.\n",
      "  warnings.warn(\n",
      " 98%|█████████▊| 60956/62390 [1:02:08<02:15, 10.55it/s]/usr/local/lib/python3.11/dist-packages/sklearn/metrics/_ranking.py:891: UserWarning: No positive class found in y_true, recall is set to one for all thresholds.\n",
      "  warnings.warn(\n",
      " 98%|█████████▊| 61449/62390 [1:02:35<00:40, 23.03it/s]/usr/local/lib/python3.11/dist-packages/sklearn/metrics/_ranking.py:891: UserWarning: No positive class found in y_true, recall is set to one for all thresholds.\n",
      "  warnings.warn(\n",
      "100%|█████████▉| 62327/62390 [1:03:26<00:02, 24.74it/s]/usr/local/lib/python3.11/dist-packages/sklearn/metrics/_ranking.py:891: UserWarning: No positive class found in y_true, recall is set to one for all thresholds.\n",
      "  warnings.warn(\n",
      "100%|██████████| 62390/62390 [1:03:29<00:00, 16.38it/s]\n"
     ]
    },
    {
     "name": "stdout",
     "output_type": "stream",
     "text": [
      "MAP: 0.9608, NDCG: 0.9773\n"
     ]
    }
   ],
   "source": [
    "# Evaluation\n",
    "map_score, ndcg_score_val = evaluate(test)\n",
    "print(f\"MAP: {map_score:.4f}, NDCG: {ndcg_score_val:.4f}\")"
   ]
  },
  {
   "cell_type": "code",
   "execution_count": null,
   "id": "d9c9dd52-3c7b-4682-a2b0-a649c2daf41e",
   "metadata": {
    "trusted": true
   },
   "outputs": [],
   "source": []
  },
  {
   "cell_type": "code",
   "execution_count": null,
   "id": "287cdfac-86b5-44ce-a40f-b864025b356d",
   "metadata": {
    "trusted": true
   },
   "outputs": [],
   "source": []
  }
 ],
 "metadata": {
  "kaggle": {
   "accelerator": "none",
   "dataSources": [
    {
     "datasetId": 571,
     "sourceId": 1094,
     "sourceType": "datasetVersion"
    }
   ],
   "dockerImageVersionId": 31040,
   "isGpuEnabled": false,
   "isInternetEnabled": true,
   "language": "python",
   "sourceType": "notebook"
  },
  "kernelspec": {
   "display_name": "Python 3",
   "language": "python",
   "name": "python3"
  },
  "language_info": {
   "codemirror_mode": {
    "name": "ipython",
    "version": 3
   },
   "file_extension": ".py",
   "mimetype": "text/x-python",
   "name": "python",
   "nbconvert_exporter": "python",
   "pygments_lexer": "ipython3",
   "version": "3.11.11"
  }
 },
 "nbformat": 4,
 "nbformat_minor": 5
}
