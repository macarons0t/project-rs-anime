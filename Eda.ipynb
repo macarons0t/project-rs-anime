{
 "cells": [
  {
   "cell_type": "code",
   "execution_count": 117,
   "id": "ce33ceed",
   "metadata": {},
   "outputs": [],
   "source": [
    "from mpl_toolkits.mplot3d import Axes3D\n",
    "from sklearn.preprocessing import StandardScaler\n",
    "import matplotlib.pyplot as plt # plotting\n",
    "import numpy as np # linear algebra\n",
    "import os # accessing directory structure\n",
    "import pandas as pd # data processing, CSV file I/O (e.g. pd.read_csv)\n",
    "\n",
    "import seaborn as sns\n"
   ]
  },
  {
   "cell_type": "markdown",
   "id": "5221294a",
   "metadata": {},
   "source": [
    "## Loading"
   ]
  },
  {
   "cell_type": "code",
   "execution_count": 118,
   "id": "9ed8cbcb",
   "metadata": {},
   "outputs": [],
   "source": [
    "anime = pd.read_csv('anime.csv', delimiter=',')\n",
    "rating = pd.read_csv('rating.csv', delimiter=',')"
   ]
  },
  {
   "cell_type": "code",
   "execution_count": 119,
   "id": "7ed5cb27",
   "metadata": {},
   "outputs": [
    {
     "data": {
      "text/html": [
       "<div>\n",
       "<style scoped>\n",
       "    .dataframe tbody tr th:only-of-type {\n",
       "        vertical-align: middle;\n",
       "    }\n",
       "\n",
       "    .dataframe tbody tr th {\n",
       "        vertical-align: top;\n",
       "    }\n",
       "\n",
       "    .dataframe thead th {\n",
       "        text-align: right;\n",
       "    }\n",
       "</style>\n",
       "<table border=\"1\" class=\"dataframe\">\n",
       "  <thead>\n",
       "    <tr style=\"text-align: right;\">\n",
       "      <th></th>\n",
       "      <th>anime_id</th>\n",
       "      <th>name</th>\n",
       "      <th>genre</th>\n",
       "      <th>type</th>\n",
       "      <th>episodes</th>\n",
       "      <th>rating</th>\n",
       "      <th>members</th>\n",
       "    </tr>\n",
       "  </thead>\n",
       "  <tbody>\n",
       "    <tr>\n",
       "      <th>0</th>\n",
       "      <td>32281</td>\n",
       "      <td>Kimi no Na wa.</td>\n",
       "      <td>Drama, Romance, School, Supernatural</td>\n",
       "      <td>Movie</td>\n",
       "      <td>1</td>\n",
       "      <td>9.37</td>\n",
       "      <td>200630</td>\n",
       "    </tr>\n",
       "    <tr>\n",
       "      <th>1</th>\n",
       "      <td>5114</td>\n",
       "      <td>Fullmetal Alchemist: Brotherhood</td>\n",
       "      <td>Action, Adventure, Drama, Fantasy, Magic, Mili...</td>\n",
       "      <td>TV</td>\n",
       "      <td>64</td>\n",
       "      <td>9.26</td>\n",
       "      <td>793665</td>\n",
       "    </tr>\n",
       "    <tr>\n",
       "      <th>2</th>\n",
       "      <td>28977</td>\n",
       "      <td>Gintama°</td>\n",
       "      <td>Action, Comedy, Historical, Parody, Samurai, S...</td>\n",
       "      <td>TV</td>\n",
       "      <td>51</td>\n",
       "      <td>9.25</td>\n",
       "      <td>114262</td>\n",
       "    </tr>\n",
       "    <tr>\n",
       "      <th>3</th>\n",
       "      <td>9253</td>\n",
       "      <td>Steins;Gate</td>\n",
       "      <td>Sci-Fi, Thriller</td>\n",
       "      <td>TV</td>\n",
       "      <td>24</td>\n",
       "      <td>9.17</td>\n",
       "      <td>673572</td>\n",
       "    </tr>\n",
       "    <tr>\n",
       "      <th>4</th>\n",
       "      <td>9969</td>\n",
       "      <td>Gintama&amp;#039;</td>\n",
       "      <td>Action, Comedy, Historical, Parody, Samurai, S...</td>\n",
       "      <td>TV</td>\n",
       "      <td>51</td>\n",
       "      <td>9.16</td>\n",
       "      <td>151266</td>\n",
       "    </tr>\n",
       "  </tbody>\n",
       "</table>\n",
       "</div>"
      ],
      "text/plain": [
       "   anime_id                              name  \\\n",
       "0     32281                    Kimi no Na wa.   \n",
       "1      5114  Fullmetal Alchemist: Brotherhood   \n",
       "2     28977                          Gintama°   \n",
       "3      9253                       Steins;Gate   \n",
       "4      9969                     Gintama&#039;   \n",
       "\n",
       "                                               genre   type episodes  rating  \\\n",
       "0               Drama, Romance, School, Supernatural  Movie        1    9.37   \n",
       "1  Action, Adventure, Drama, Fantasy, Magic, Mili...     TV       64    9.26   \n",
       "2  Action, Comedy, Historical, Parody, Samurai, S...     TV       51    9.25   \n",
       "3                                   Sci-Fi, Thriller     TV       24    9.17   \n",
       "4  Action, Comedy, Historical, Parody, Samurai, S...     TV       51    9.16   \n",
       "\n",
       "   members  \n",
       "0   200630  \n",
       "1   793665  \n",
       "2   114262  \n",
       "3   673572  \n",
       "4   151266  "
      ]
     },
     "metadata": {},
     "output_type": "display_data"
    },
    {
     "name": "stdout",
     "output_type": "stream",
     "text": [
      "Number of diffrent Anime Programs:  12294\n",
      "Number of features in the dataset:  7 ['anime_id' 'name' 'genre' 'type' 'episodes' 'rating' 'members']\n"
     ]
    }
   ],
   "source": [
    "display(anime.head())\n",
    "print(\"Number of diffrent Anime Programs: \",anime.shape[0])\n",
    "print(\"Number of features in the dataset: \",anime.shape[1],anime.columns.values)"
   ]
  },
  {
   "cell_type": "code",
   "execution_count": 120,
   "id": "40b6afa4",
   "metadata": {},
   "outputs": [],
   "source": [
    "def first_look(df):\n",
    "    print('dataset shape: \\n')\n",
    "    print('number of rows: ',df.shape[0],' number of columns: ',df.shape[1])\n",
    "    print('dataset column names: \\n')\n",
    "    print(df.columns)\n",
    "    print('columns data-type')\n",
    "    print(df.dtypes)\n",
    "    print('missing data')\n",
    "    c=df.isnull().sum()\n",
    "    print(c[c>0])"
   ]
  },
  {
   "cell_type": "markdown",
   "id": "fabdf09a",
   "metadata": {},
   "source": [
    "Anime dataset"
   ]
  },
  {
   "cell_type": "code",
   "execution_count": 121,
   "id": "00c3c00c",
   "metadata": {},
   "outputs": [
    {
     "name": "stdout",
     "output_type": "stream",
     "text": [
      "dataset shape: \n",
      "\n",
      "number of rows:  12294  number of columns:  7\n",
      "dataset column names: \n",
      "\n",
      "Index(['anime_id', 'name', 'genre', 'type', 'episodes', 'rating', 'members'], dtype='object')\n",
      "columns data-type\n",
      "anime_id      int64\n",
      "name         object\n",
      "genre        object\n",
      "type         object\n",
      "episodes     object\n",
      "rating      float64\n",
      "members       int64\n",
      "dtype: object\n",
      "missing data\n",
      "genre      62\n",
      "type       25\n",
      "rating    230\n",
      "dtype: int64\n"
     ]
    }
   ],
   "source": [
    "first_look(anime)"
   ]
  },
  {
   "cell_type": "code",
   "execution_count": 122,
   "id": "0c51f1bf",
   "metadata": {},
   "outputs": [
    {
     "name": "stdout",
     "output_type": "stream",
     "text": [
      "Data type and Null Values: \n",
      "<class 'pandas.core.frame.DataFrame'>\n",
      "RangeIndex: 12294 entries, 0 to 12293\n",
      "Data columns (total 7 columns):\n",
      " #   Column    Non-Null Count  Dtype  \n",
      "---  ------    --------------  -----  \n",
      " 0   anime_id  12294 non-null  int64  \n",
      " 1   name      12294 non-null  object \n",
      " 2   genre     12232 non-null  object \n",
      " 3   type      12269 non-null  object \n",
      " 4   episodes  12294 non-null  object \n",
      " 5   rating    12064 non-null  float64\n",
      " 6   members   12294 non-null  int64  \n",
      "dtypes: float64(1), int64(2), object(4)\n",
      "memory usage: 672.5+ KB\n"
     ]
    },
    {
     "data": {
      "text/plain": [
       "None"
      ]
     },
     "metadata": {},
     "output_type": "display_data"
    },
    {
     "name": "stdout",
     "output_type": "stream",
     "text": [
      "\n",
      "Statistics about the dataset: \n"
     ]
    },
    {
     "data": {
      "text/plain": [
       "count    12064.000000\n",
       "mean         6.473902\n",
       "std          1.026746\n",
       "min          1.670000\n",
       "25%          5.880000\n",
       "50%          6.570000\n",
       "75%          7.180000\n",
       "max         10.000000\n",
       "Name: rating, dtype: float64"
      ]
     },
     "metadata": {},
     "output_type": "display_data"
    }
   ],
   "source": [
    "print(\"Data type and Null Values: \")\n",
    "display(anime.info())\n",
    "\n",
    "print(\"\\nStatistics about the dataset: \")\n",
    "display(anime[\"rating\"].describe())"
   ]
  },
  {
   "cell_type": "code",
   "execution_count": 123,
   "id": "1499b603",
   "metadata": {},
   "outputs": [],
   "source": [
    "anime[\"rating\"]=anime[\"rating\"].fillna(anime[\"rating\"].mean())\n",
    "anime[\"genre\"]=anime[\"genre\"].fillna(anime[\"genre\"].mode()[0])\n",
    "anime[\"type\"]=anime[\"type\"].fillna(anime[\"type\"].mode()[0])\n",
    "#Change unknown \"episode\" values to 0.\n",
    "anime.loc[anime[\"episodes\"] == \"Unknown\", \"episodes\"] = 0\n",
    "anime[\"episodes\"] = anime[\"episodes\"].astype(int)"
   ]
  },
  {
   "cell_type": "code",
   "execution_count": 124,
   "id": "e18c5ce1",
   "metadata": {},
   "outputs": [
    {
     "data": {
      "text/plain": [
       "anime_id    0\n",
       "name        0\n",
       "genre       0\n",
       "type        0\n",
       "episodes    0\n",
       "rating      0\n",
       "members     0\n",
       "dtype: int64"
      ]
     },
     "execution_count": 124,
     "metadata": {},
     "output_type": "execute_result"
    }
   ],
   "source": [
    "anime.isnull().sum()"
   ]
  },
  {
   "cell_type": "markdown",
   "id": "428e3fe3",
   "metadata": {},
   "source": [
    "rating dataset"
   ]
  },
  {
   "cell_type": "code",
   "execution_count": 125,
   "id": "2a6990d3",
   "metadata": {},
   "outputs": [
    {
     "name": "stdout",
     "output_type": "stream",
     "text": [
      "dataset shape: \n",
      "\n",
      "number of rows:  7813737  number of columns:  3\n",
      "dataset column names: \n",
      "\n",
      "Index(['user_id', 'anime_id', 'rating'], dtype='object')\n",
      "columns data-type\n",
      "user_id     int64\n",
      "anime_id    int64\n",
      "rating      int64\n",
      "dtype: object\n",
      "missing data\n",
      "Series([], dtype: int64)\n"
     ]
    }
   ],
   "source": [
    "first_look(rating)"
   ]
  },
  {
   "cell_type": "code",
   "execution_count": 126,
   "id": "93b47400",
   "metadata": {},
   "outputs": [
    {
     "data": {
      "text/html": [
       "<div>\n",
       "<style scoped>\n",
       "    .dataframe tbody tr th:only-of-type {\n",
       "        vertical-align: middle;\n",
       "    }\n",
       "\n",
       "    .dataframe tbody tr th {\n",
       "        vertical-align: top;\n",
       "    }\n",
       "\n",
       "    .dataframe thead th {\n",
       "        text-align: right;\n",
       "    }\n",
       "</style>\n",
       "<table border=\"1\" class=\"dataframe\">\n",
       "  <thead>\n",
       "    <tr style=\"text-align: right;\">\n",
       "      <th></th>\n",
       "      <th>user_id</th>\n",
       "      <th>anime_id</th>\n",
       "      <th>rating</th>\n",
       "    </tr>\n",
       "  </thead>\n",
       "  <tbody>\n",
       "    <tr>\n",
       "      <th>0</th>\n",
       "      <td>1</td>\n",
       "      <td>20</td>\n",
       "      <td>-1</td>\n",
       "    </tr>\n",
       "    <tr>\n",
       "      <th>1</th>\n",
       "      <td>1</td>\n",
       "      <td>24</td>\n",
       "      <td>-1</td>\n",
       "    </tr>\n",
       "    <tr>\n",
       "      <th>2</th>\n",
       "      <td>1</td>\n",
       "      <td>79</td>\n",
       "      <td>-1</td>\n",
       "    </tr>\n",
       "    <tr>\n",
       "      <th>3</th>\n",
       "      <td>1</td>\n",
       "      <td>226</td>\n",
       "      <td>-1</td>\n",
       "    </tr>\n",
       "    <tr>\n",
       "      <th>4</th>\n",
       "      <td>1</td>\n",
       "      <td>241</td>\n",
       "      <td>-1</td>\n",
       "    </tr>\n",
       "  </tbody>\n",
       "</table>\n",
       "</div>"
      ],
      "text/plain": [
       "   user_id  anime_id  rating\n",
       "0        1        20      -1\n",
       "1        1        24      -1\n",
       "2        1        79      -1\n",
       "3        1       226      -1\n",
       "4        1       241      -1"
      ]
     },
     "metadata": {},
     "output_type": "display_data"
    },
    {
     "name": "stdout",
     "output_type": "stream",
     "text": [
      "Number of entries in the dataset:  7813737\n",
      "Number of features in the dataset:  3\n",
      "The features are:  ['user_id' 'anime_id' 'rating']\n"
     ]
    }
   ],
   "source": [
    "display(rating.head())\n",
    "print(\"Number of entries in the dataset: \",rating.shape[0])\n",
    "print(\"Number of features in the dataset: \",rating.shape[1])\n",
    "print(\"The features are: \",rating.columns.values)"
   ]
  },
  {
   "cell_type": "code",
   "execution_count": 127,
   "id": "94754066",
   "metadata": {},
   "outputs": [],
   "source": [
    "anime = anime.drop_duplicates(subset=['name']).reset_index(drop = True)\n",
    "rating = rating.drop_duplicates().reset_index(drop=True)"
   ]
  },
  {
   "cell_type": "code",
   "execution_count": 128,
   "id": "46a446eb",
   "metadata": {},
   "outputs": [
    {
     "data": {
      "text/plain": [
       "anime_id    0\n",
       "name        0\n",
       "genre       0\n",
       "type        0\n",
       "episodes    0\n",
       "rating      0\n",
       "members     0\n",
       "dtype: int64"
      ]
     },
     "execution_count": 128,
     "metadata": {},
     "output_type": "execute_result"
    }
   ],
   "source": [
    "anime.isnull().sum()"
   ]
  },
  {
   "cell_type": "markdown",
   "id": "b6109210",
   "metadata": {},
   "source": [
    "## EDA"
   ]
  },
  {
   "cell_type": "code",
   "execution_count": 129,
   "id": "70c8987e",
   "metadata": {},
   "outputs": [
    {
     "data": {
      "image/png": "[encoded data removed]",
      "text/plain": [
       "<Figure size 800x800 with 1 Axes>"
      ]
     },
     "metadata": {},
     "output_type": "display_data"
    }
   ],
   "source": [
    "anime['type'].value_counts().plot.pie(autopct='%.1f%%',labels=None,shadow=True,figsize=(8,8))\n",
    "plt.title('type of Animes in dataset')\n",
    "plt.ylabel('')\n",
    "plt.legend(anime['type'].value_counts().index.tolist(),loc='upper right')\n",
    "plt.show()"
   ]
  },
  {
   "cell_type": "code",
   "execution_count": 130,
   "id": "67d2ef88",
   "metadata": {},
   "outputs": [
    {
     "data": {
      "image/png": "[encoded data removed]",
      "text/plain": [
       "<Figure size 1000x500 with 1 Axes>"
      ]
     },
     "metadata": {},
     "output_type": "display_data"
    }
   ],
   "source": [
    "plt.figure(figsize=(10,5))\n",
    "sns.boxplot(x='type',y='rating',data=anime)\n",
    "plt.title('anime-type VS rating')\n",
    "plt.show()"
   ]
  },
  {
   "cell_type": "code",
   "execution_count": 131,
   "id": "fef6871b",
   "metadata": {},
   "outputs": [
    {
     "name": "stdout",
     "output_type": "stream",
     "text": [
      "mean of Movie :\n",
      "\n",
      "6.321794111781779\n",
      "mean of TV :\n",
      "\n",
      "6.886453341665367\n",
      "mean of OVA :\n",
      "\n",
      "6.375995603734678\n",
      "mean of Special :\n",
      "\n",
      "6.523352928672379\n",
      "mean of Music :\n",
      "\n",
      "5.588995901639344\n",
      "mean of ONA :\n",
      "\n",
      "5.652120351801017\n"
     ]
    }
   ],
   "source": [
    "for i in anime['type'].unique().tolist():\n",
    "    print('mean of '+str(i)+' :\\n')\n",
    "    print(anime[anime['type']==i]['rating'].mean())"
   ]
  },
  {
   "cell_type": "code",
   "execution_count": 132,
   "id": "4dd3e838",
   "metadata": {},
   "outputs": [
    {
     "data": {
      "image/png": "[encoded data removed]",
      "text/plain": [
       "<Figure size 800x800 with 1 Axes>"
      ]
     },
     "metadata": {},
     "output_type": "display_data"
    }
   ],
   "source": [
    "TV_anime=anime[anime['type']=='TV']\n",
    "TV_anime['genre'].value_counts().sort_values(ascending=True).tail(20).plot.barh(figsize=(8,8))\n",
    "plt.title('genres of TV-Animes')\n",
    "plt.xlabel('frequency')\n",
    "plt.ylabel('genres')\n",
    "plt.show()"
   ]
  },
  {
   "cell_type": "code",
   "execution_count": 133,
   "id": "f74d84e1",
   "metadata": {},
   "outputs": [
    {
     "data": {
      "text/html": [
       "<div>\n",
       "<style scoped>\n",
       "    .dataframe tbody tr th:only-of-type {\n",
       "        vertical-align: middle;\n",
       "    }\n",
       "\n",
       "    .dataframe tbody tr th {\n",
       "        vertical-align: top;\n",
       "    }\n",
       "\n",
       "    .dataframe thead th {\n",
       "        text-align: right;\n",
       "    }\n",
       "</style>\n",
       "<table border=\"1\" class=\"dataframe\">\n",
       "  <thead>\n",
       "    <tr style=\"text-align: right;\">\n",
       "      <th></th>\n",
       "      <th>episodes</th>\n",
       "      <th>rating</th>\n",
       "      <th>members</th>\n",
       "    </tr>\n",
       "  </thead>\n",
       "  <tbody>\n",
       "    <tr>\n",
       "      <th>count</th>\n",
       "      <td>3812.000000</td>\n",
       "      <td>3812.000000</td>\n",
       "      <td>3.812000e+03</td>\n",
       "    </tr>\n",
       "    <tr>\n",
       "      <th>mean</th>\n",
       "      <td>33.710913</td>\n",
       "      <td>6.886453</td>\n",
       "      <td>4.244660e+04</td>\n",
       "    </tr>\n",
       "    <tr>\n",
       "      <th>std</th>\n",
       "      <td>78.599773</td>\n",
       "      <td>0.851250</td>\n",
       "      <td>8.888237e+04</td>\n",
       "    </tr>\n",
       "    <tr>\n",
       "      <th>min</th>\n",
       "      <td>0.000000</td>\n",
       "      <td>2.670000</td>\n",
       "      <td>1.100000e+01</td>\n",
       "    </tr>\n",
       "    <tr>\n",
       "      <th>25%</th>\n",
       "      <td>12.000000</td>\n",
       "      <td>6.470000</td>\n",
       "      <td>4.830000e+02</td>\n",
       "    </tr>\n",
       "    <tr>\n",
       "      <th>50%</th>\n",
       "      <td>24.000000</td>\n",
       "      <td>6.900000</td>\n",
       "      <td>5.896500e+03</td>\n",
       "    </tr>\n",
       "    <tr>\n",
       "      <th>75%</th>\n",
       "      <td>39.000000</td>\n",
       "      <td>7.440000</td>\n",
       "      <td>4.372800e+04</td>\n",
       "    </tr>\n",
       "    <tr>\n",
       "      <th>max</th>\n",
       "      <td>1818.000000</td>\n",
       "      <td>9.600000</td>\n",
       "      <td>1.013917e+06</td>\n",
       "    </tr>\n",
       "  </tbody>\n",
       "</table>\n",
       "</div>"
      ],
      "text/plain": [
       "          episodes       rating       members\n",
       "count  3812.000000  3812.000000  3.812000e+03\n",
       "mean     33.710913     6.886453  4.244660e+04\n",
       "std      78.599773     0.851250  8.888237e+04\n",
       "min       0.000000     2.670000  1.100000e+01\n",
       "25%      12.000000     6.470000  4.830000e+02\n",
       "50%      24.000000     6.900000  5.896500e+03\n",
       "75%      39.000000     7.440000  4.372800e+04\n",
       "max    1818.000000     9.600000  1.013917e+06"
      ]
     },
     "execution_count": 133,
     "metadata": {},
     "output_type": "execute_result"
    }
   ],
   "source": [
    "TV_anime.drop('anime_id',axis=1).describe()"
   ]
  },
  {
   "cell_type": "markdown",
   "id": "4a896045",
   "metadata": {},
   "source": [
    "let's see which TV anime has the maximum episodes, and which has the minimum"
   ]
  },
  {
   "cell_type": "code",
   "execution_count": 134,
   "id": "2dd416c0",
   "metadata": {},
   "outputs": [
    {
     "data": {
      "text/html": [
       "<div>\n",
       "<style scoped>\n",
       "    .dataframe tbody tr th:only-of-type {\n",
       "        vertical-align: middle;\n",
       "    }\n",
       "\n",
       "    .dataframe tbody tr th {\n",
       "        vertical-align: top;\n",
       "    }\n",
       "\n",
       "    .dataframe thead th {\n",
       "        text-align: right;\n",
       "    }\n",
       "</style>\n",
       "<table border=\"1\" class=\"dataframe\">\n",
       "  <thead>\n",
       "    <tr style=\"text-align: right;\">\n",
       "      <th></th>\n",
       "      <th>anime_id</th>\n",
       "      <th>name</th>\n",
       "      <th>genre</th>\n",
       "      <th>type</th>\n",
       "      <th>episodes</th>\n",
       "      <th>rating</th>\n",
       "      <th>members</th>\n",
       "    </tr>\n",
       "  </thead>\n",
       "  <tbody>\n",
       "    <tr>\n",
       "      <th>6296</th>\n",
       "      <td>12393</td>\n",
       "      <td>Oyako Club</td>\n",
       "      <td>Comedy, Slice of Life</td>\n",
       "      <td>TV</td>\n",
       "      <td>1818</td>\n",
       "      <td>6.18</td>\n",
       "      <td>160</td>\n",
       "    </tr>\n",
       "  </tbody>\n",
       "</table>\n",
       "</div>"
      ],
      "text/plain": [
       "      anime_id        name                  genre type  episodes  rating  \\\n",
       "6296     12393  Oyako Club  Comedy, Slice of Life   TV      1818    6.18   \n",
       "\n",
       "      members  \n",
       "6296      160  "
      ]
     },
     "execution_count": 134,
     "metadata": {},
     "output_type": "execute_result"
    }
   ],
   "source": [
    "TV_anime[TV_anime['episodes']==TV_anime['episodes'].max()]"
   ]
  },
  {
   "cell_type": "code",
   "execution_count": 135,
   "id": "1657a91c",
   "metadata": {},
   "outputs": [
    {
     "data": {
      "text/html": [
       "<div>\n",
       "<style scoped>\n",
       "    .dataframe tbody tr th:only-of-type {\n",
       "        vertical-align: middle;\n",
       "    }\n",
       "\n",
       "    .dataframe tbody tr th {\n",
       "        vertical-align: top;\n",
       "    }\n",
       "\n",
       "    .dataframe thead th {\n",
       "        text-align: right;\n",
       "    }\n",
       "</style>\n",
       "<table border=\"1\" class=\"dataframe\">\n",
       "  <thead>\n",
       "    <tr style=\"text-align: right;\">\n",
       "      <th></th>\n",
       "      <th>anime_id</th>\n",
       "      <th>name</th>\n",
       "      <th>genre</th>\n",
       "      <th>type</th>\n",
       "      <th>episodes</th>\n",
       "      <th>rating</th>\n",
       "      <th>members</th>\n",
       "    </tr>\n",
       "  </thead>\n",
       "  <tbody>\n",
       "    <tr>\n",
       "      <th>74</th>\n",
       "      <td>21</td>\n",
       "      <td>One Piece</td>\n",
       "      <td>Action, Adventure, Comedy, Drama, Fantasy, Sho...</td>\n",
       "      <td>TV</td>\n",
       "      <td>0</td>\n",
       "      <td>8.580000</td>\n",
       "      <td>504862</td>\n",
       "    </tr>\n",
       "    <tr>\n",
       "      <th>252</th>\n",
       "      <td>235</td>\n",
       "      <td>Detective Conan</td>\n",
       "      <td>Adventure, Comedy, Mystery, Police, Shounen</td>\n",
       "      <td>TV</td>\n",
       "      <td>0</td>\n",
       "      <td>8.250000</td>\n",
       "      <td>114702</td>\n",
       "    </tr>\n",
       "    <tr>\n",
       "      <th>615</th>\n",
       "      <td>1735</td>\n",
       "      <td>Naruto: Shippuuden</td>\n",
       "      <td>Action, Comedy, Martial Arts, Shounen, Super P...</td>\n",
       "      <td>TV</td>\n",
       "      <td>0</td>\n",
       "      <td>7.940000</td>\n",
       "      <td>533578</td>\n",
       "    </tr>\n",
       "    <tr>\n",
       "      <th>991</th>\n",
       "      <td>966</td>\n",
       "      <td>Crayon Shin-chan</td>\n",
       "      <td>Comedy, Ecchi, Kids, School, Shounen, Slice of...</td>\n",
       "      <td>TV</td>\n",
       "      <td>0</td>\n",
       "      <td>7.730000</td>\n",
       "      <td>26267</td>\n",
       "    </tr>\n",
       "    <tr>\n",
       "      <th>1272</th>\n",
       "      <td>21639</td>\n",
       "      <td>Yu☆Gi☆Oh! Arc-V</td>\n",
       "      <td>Action, Fantasy, Game, Shounen</td>\n",
       "      <td>TV</td>\n",
       "      <td>0</td>\n",
       "      <td>7.610000</td>\n",
       "      <td>17571</td>\n",
       "    </tr>\n",
       "    <tr>\n",
       "      <th>...</th>\n",
       "      <td>...</td>\n",
       "      <td>...</td>\n",
       "      <td>...</td>\n",
       "      <td>...</td>\n",
       "      <td>...</td>\n",
       "      <td>...</td>\n",
       "      <td>...</td>\n",
       "    </tr>\n",
       "    <tr>\n",
       "      <th>11102</th>\n",
       "      <td>34522</td>\n",
       "      <td>Wake Up, Girls! Shin Shou</td>\n",
       "      <td>Drama, Music</td>\n",
       "      <td>TV</td>\n",
       "      <td>0</td>\n",
       "      <td>6.473902</td>\n",
       "      <td>381</td>\n",
       "    </tr>\n",
       "    <tr>\n",
       "      <th>11104</th>\n",
       "      <td>34467</td>\n",
       "      <td>Yami Shibai 4th Season</td>\n",
       "      <td>Dementia, Horror, Supernatural</td>\n",
       "      <td>TV</td>\n",
       "      <td>0</td>\n",
       "      <td>6.473902</td>\n",
       "      <td>1838</td>\n",
       "    </tr>\n",
       "    <tr>\n",
       "      <th>11105</th>\n",
       "      <td>32615</td>\n",
       "      <td>Youjo Senki</td>\n",
       "      <td>Magic, Military</td>\n",
       "      <td>TV</td>\n",
       "      <td>0</td>\n",
       "      <td>6.473902</td>\n",
       "      <td>6652</td>\n",
       "    </tr>\n",
       "    <tr>\n",
       "      <th>12250</th>\n",
       "      <td>34382</td>\n",
       "      <td>Citrus</td>\n",
       "      <td>Drama, Romance, School, Yuri</td>\n",
       "      <td>TV</td>\n",
       "      <td>0</td>\n",
       "      <td>6.473902</td>\n",
       "      <td>2459</td>\n",
       "    </tr>\n",
       "    <tr>\n",
       "      <th>12257</th>\n",
       "      <td>33654</td>\n",
       "      <td>Hitorijime My Hero</td>\n",
       "      <td>Yaoi</td>\n",
       "      <td>TV</td>\n",
       "      <td>0</td>\n",
       "      <td>6.473902</td>\n",
       "      <td>1574</td>\n",
       "    </tr>\n",
       "  </tbody>\n",
       "</table>\n",
       "<p>234 rows × 7 columns</p>\n",
       "</div>"
      ],
      "text/plain": [
       "       anime_id                       name  \\\n",
       "74           21                  One Piece   \n",
       "252         235            Detective Conan   \n",
       "615        1735         Naruto: Shippuuden   \n",
       "991         966           Crayon Shin-chan   \n",
       "1272      21639            Yu☆Gi☆Oh! Arc-V   \n",
       "...         ...                        ...   \n",
       "11102     34522  Wake Up, Girls! Shin Shou   \n",
       "11104     34467     Yami Shibai 4th Season   \n",
       "11105     32615                Youjo Senki   \n",
       "12250     34382                     Citrus   \n",
       "12257     33654         Hitorijime My Hero   \n",
       "\n",
       "                                                   genre type  episodes  \\\n",
       "74     Action, Adventure, Comedy, Drama, Fantasy, Sho...   TV         0   \n",
       "252          Adventure, Comedy, Mystery, Police, Shounen   TV         0   \n",
       "615    Action, Comedy, Martial Arts, Shounen, Super P...   TV         0   \n",
       "991    Comedy, Ecchi, Kids, School, Shounen, Slice of...   TV         0   \n",
       "1272                      Action, Fantasy, Game, Shounen   TV         0   \n",
       "...                                                  ...  ...       ...   \n",
       "11102                                       Drama, Music   TV         0   \n",
       "11104                     Dementia, Horror, Supernatural   TV         0   \n",
       "11105                                    Magic, Military   TV         0   \n",
       "12250                       Drama, Romance, School, Yuri   TV         0   \n",
       "12257                                               Yaoi   TV         0   \n",
       "\n",
       "         rating  members  \n",
       "74     8.580000   504862  \n",
       "252    8.250000   114702  \n",
       "615    7.940000   533578  \n",
       "991    7.730000    26267  \n",
       "1272   7.610000    17571  \n",
       "...         ...      ...  \n",
       "11102  6.473902      381  \n",
       "11104  6.473902     1838  \n",
       "11105  6.473902     6652  \n",
       "12250  6.473902     2459  \n",
       "12257  6.473902     1574  \n",
       "\n",
       "[234 rows x 7 columns]"
      ]
     },
     "execution_count": 135,
     "metadata": {},
     "output_type": "execute_result"
    }
   ],
   "source": [
    "TV_anime[TV_anime['episodes']==TV_anime['episodes'].min()]"
   ]
  },
  {
   "cell_type": "markdown",
   "id": "138e5502",
   "metadata": {},
   "source": [
    "let's see which TV anime has the maximum rating, and which has the minimum"
   ]
  },
  {
   "cell_type": "code",
   "execution_count": 136,
   "id": "7dd64502",
   "metadata": {},
   "outputs": [
    {
     "data": {
      "text/html": [
       "<div>\n",
       "<style scoped>\n",
       "    .dataframe tbody tr th:only-of-type {\n",
       "        vertical-align: middle;\n",
       "    }\n",
       "\n",
       "    .dataframe tbody tr th {\n",
       "        vertical-align: top;\n",
       "    }\n",
       "\n",
       "    .dataframe thead th {\n",
       "        text-align: right;\n",
       "    }\n",
       "</style>\n",
       "<table border=\"1\" class=\"dataframe\">\n",
       "  <thead>\n",
       "    <tr style=\"text-align: right;\">\n",
       "      <th></th>\n",
       "      <th>anime_id</th>\n",
       "      <th>name</th>\n",
       "      <th>genre</th>\n",
       "      <th>type</th>\n",
       "      <th>episodes</th>\n",
       "      <th>rating</th>\n",
       "      <th>members</th>\n",
       "    </tr>\n",
       "  </thead>\n",
       "  <tbody>\n",
       "    <tr>\n",
       "      <th>10398</th>\n",
       "      <td>30120</td>\n",
       "      <td>Spoon-hime no Swing Kitchen</td>\n",
       "      <td>Adventure, Kids</td>\n",
       "      <td>TV</td>\n",
       "      <td>0</td>\n",
       "      <td>9.6</td>\n",
       "      <td>47</td>\n",
       "    </tr>\n",
       "  </tbody>\n",
       "</table>\n",
       "</div>"
      ],
      "text/plain": [
       "       anime_id                         name            genre type  episodes  \\\n",
       "10398     30120  Spoon-hime no Swing Kitchen  Adventure, Kids   TV         0   \n",
       "\n",
       "       rating  members  \n",
       "10398     9.6       47  "
      ]
     },
     "execution_count": 136,
     "metadata": {},
     "output_type": "execute_result"
    }
   ],
   "source": [
    "TV_anime[TV_anime['rating']==TV_anime['rating'].max()]"
   ]
  },
  {
   "cell_type": "code",
   "execution_count": 137,
   "id": "0857eac3",
   "metadata": {},
   "outputs": [
    {
     "data": {
      "text/html": [
       "<div>\n",
       "<style scoped>\n",
       "    .dataframe tbody tr th:only-of-type {\n",
       "        vertical-align: middle;\n",
       "    }\n",
       "\n",
       "    .dataframe tbody tr th {\n",
       "        vertical-align: top;\n",
       "    }\n",
       "\n",
       "    .dataframe thead th {\n",
       "        text-align: right;\n",
       "    }\n",
       "</style>\n",
       "<table border=\"1\" class=\"dataframe\">\n",
       "  <thead>\n",
       "    <tr style=\"text-align: right;\">\n",
       "      <th></th>\n",
       "      <th>anime_id</th>\n",
       "      <th>name</th>\n",
       "      <th>genre</th>\n",
       "      <th>type</th>\n",
       "      <th>episodes</th>\n",
       "      <th>rating</th>\n",
       "      <th>members</th>\n",
       "    </tr>\n",
       "  </thead>\n",
       "  <tbody>\n",
       "    <tr>\n",
       "      <th>9854</th>\n",
       "      <td>29435</td>\n",
       "      <td>Ongaku Sekai Ryokou</td>\n",
       "      <td>Kids, Music</td>\n",
       "      <td>TV</td>\n",
       "      <td>0</td>\n",
       "      <td>2.67</td>\n",
       "      <td>45</td>\n",
       "    </tr>\n",
       "  </tbody>\n",
       "</table>\n",
       "</div>"
      ],
      "text/plain": [
       "      anime_id                 name        genre type  episodes  rating  \\\n",
       "9854     29435  Ongaku Sekai Ryokou  Kids, Music   TV         0    2.67   \n",
       "\n",
       "      members  \n",
       "9854       45  "
      ]
     },
     "execution_count": 137,
     "metadata": {},
     "output_type": "execute_result"
    }
   ],
   "source": [
    "TV_anime[TV_anime['rating']==TV_anime['rating'].min()]"
   ]
  },
  {
   "cell_type": "markdown",
   "id": "32c94c3b",
   "metadata": {},
   "source": [
    "let's see which TV anime has the maximum members, and which has the minimum"
   ]
  },
  {
   "cell_type": "code",
   "execution_count": 138,
   "id": "0da18d2d",
   "metadata": {},
   "outputs": [
    {
     "data": {
      "text/html": [
       "<div>\n",
       "<style scoped>\n",
       "    .dataframe tbody tr th:only-of-type {\n",
       "        vertical-align: middle;\n",
       "    }\n",
       "\n",
       "    .dataframe tbody tr th {\n",
       "        vertical-align: top;\n",
       "    }\n",
       "\n",
       "    .dataframe thead th {\n",
       "        text-align: right;\n",
       "    }\n",
       "</style>\n",
       "<table border=\"1\" class=\"dataframe\">\n",
       "  <thead>\n",
       "    <tr style=\"text-align: right;\">\n",
       "      <th></th>\n",
       "      <th>anime_id</th>\n",
       "      <th>name</th>\n",
       "      <th>genre</th>\n",
       "      <th>type</th>\n",
       "      <th>episodes</th>\n",
       "      <th>rating</th>\n",
       "      <th>members</th>\n",
       "    </tr>\n",
       "  </thead>\n",
       "  <tbody>\n",
       "    <tr>\n",
       "      <th>40</th>\n",
       "      <td>1535</td>\n",
       "      <td>Death Note</td>\n",
       "      <td>Mystery, Police, Psychological, Supernatural, ...</td>\n",
       "      <td>TV</td>\n",
       "      <td>37</td>\n",
       "      <td>8.71</td>\n",
       "      <td>1013917</td>\n",
       "    </tr>\n",
       "  </tbody>\n",
       "</table>\n",
       "</div>"
      ],
      "text/plain": [
       "    anime_id        name                                              genre  \\\n",
       "40      1535  Death Note  Mystery, Police, Psychological, Supernatural, ...   \n",
       "\n",
       "   type  episodes  rating  members  \n",
       "40   TV        37    8.71  1013917  "
      ]
     },
     "execution_count": 138,
     "metadata": {},
     "output_type": "execute_result"
    }
   ],
   "source": [
    "TV_anime[TV_anime['members']==TV_anime['members'].max()]\n"
   ]
  },
  {
   "cell_type": "code",
   "execution_count": 139,
   "id": "9be355c2",
   "metadata": {},
   "outputs": [
    {
     "data": {
      "text/html": [
       "<div>\n",
       "<style scoped>\n",
       "    .dataframe tbody tr th:only-of-type {\n",
       "        vertical-align: middle;\n",
       "    }\n",
       "\n",
       "    .dataframe tbody tr th {\n",
       "        vertical-align: top;\n",
       "    }\n",
       "\n",
       "    .dataframe thead th {\n",
       "        text-align: right;\n",
       "    }\n",
       "</style>\n",
       "<table border=\"1\" class=\"dataframe\">\n",
       "  <thead>\n",
       "    <tr style=\"text-align: right;\">\n",
       "      <th></th>\n",
       "      <th>anime_id</th>\n",
       "      <th>name</th>\n",
       "      <th>genre</th>\n",
       "      <th>type</th>\n",
       "      <th>episodes</th>\n",
       "      <th>rating</th>\n",
       "      <th>members</th>\n",
       "    </tr>\n",
       "  </thead>\n",
       "  <tbody>\n",
       "    <tr>\n",
       "      <th>10988</th>\n",
       "      <td>34485</td>\n",
       "      <td>Ganko-chan</td>\n",
       "      <td>Hentai</td>\n",
       "      <td>TV</td>\n",
       "      <td>0</td>\n",
       "      <td>6.473902</td>\n",
       "      <td>11</td>\n",
       "    </tr>\n",
       "  </tbody>\n",
       "</table>\n",
       "</div>"
      ],
      "text/plain": [
       "       anime_id        name   genre type  episodes    rating  members\n",
       "10988     34485  Ganko-chan  Hentai   TV         0  6.473902       11"
      ]
     },
     "execution_count": 139,
     "metadata": {},
     "output_type": "execute_result"
    }
   ],
   "source": [
    "TV_anime[TV_anime['members']==TV_anime['members'].min()]"
   ]
  },
  {
   "cell_type": "markdown",
   "id": "ea070dd4",
   "metadata": {},
   "source": [
    "let's see the distribution plots of rating, members"
   ]
  },
  {
   "cell_type": "code",
   "execution_count": 140,
   "id": "150017b3",
   "metadata": {},
   "outputs": [
    {
     "name": "stderr",
     "output_type": "stream",
     "text": [
      "C:\\Users\\jermi\\AppData\\Local\\Temp\\ipykernel_21748\\1760438478.py:4: UserWarning: \n",
      "\n",
      "`distplot` is a deprecated function and will be removed in seaborn v0.14.0.\n",
      "\n",
      "Please adapt your code to use either `displot` (a figure-level function with\n",
      "similar flexibility) or `histplot` (an axes-level function for histograms).\n",
      "\n",
      "For a guide to updating your code to use the new functions, please see\n",
      "https://gist.github.com/mwaskom/de44147ed2974457ad6372750bbe5751\n",
      "\n",
      "  sns.distplot(TV_anime[i],ax=ax)\n",
      "C:\\Users\\jermi\\AppData\\Local\\Temp\\ipykernel_21748\\1760438478.py:4: UserWarning: \n",
      "\n",
      "`distplot` is a deprecated function and will be removed in seaborn v0.14.0.\n",
      "\n",
      "Please adapt your code to use either `displot` (a figure-level function with\n",
      "similar flexibility) or `histplot` (an axes-level function for histograms).\n",
      "\n",
      "For a guide to updating your code to use the new functions, please see\n",
      "https://gist.github.com/mwaskom/de44147ed2974457ad6372750bbe5751\n",
      "\n",
      "  sns.distplot(TV_anime[i],ax=ax)\n"
     ]
    },
    {
     "data": {
      "image/png": "[encoded data removed]",
      "text/plain": [
       "<Figure size 1300x500 with 2 Axes>"
      ]
     },
     "metadata": {},
     "output_type": "display_data"
    }
   ],
   "source": [
    "fig=plt.figure(figsize=(13,5))\n",
    "for i,j in zip(TV_anime[['rating','members']].columns,range(3)):\n",
    "    ax=fig.add_subplot(1,2,j+1)\n",
    "    sns.distplot(TV_anime[i],ax=ax)\n",
    "    plt.axvline(TV_anime[i].mean(),label='mean',color='blue')\n",
    "    plt.axvline(TV_anime[i].median(),label='median',color='green')\n",
    "    plt.axvline(TV_anime[i].std(),label='std',color='red')\n",
    "    plt.title('{} distribtion'.format(i))\n",
    "    plt.legend()\n",
    "plt.show()"
   ]
  },
  {
   "cell_type": "code",
   "execution_count": 141,
   "id": "59c93088",
   "metadata": {},
   "outputs": [
    {
     "data": {
      "text/plain": [
       "73516"
      ]
     },
     "execution_count": 141,
     "metadata": {},
     "output_type": "execute_result"
    }
   ],
   "source": [
    "rating['user_id'].max()"
   ]
  },
  {
   "cell_type": "code",
   "execution_count": 142,
   "id": "68de011c",
   "metadata": {},
   "outputs": [],
   "source": [
    "MRPU = rating.groupby(['user_id']).mean().reset_index()\n",
    "MRPU['mean_rating'] = MRPU['rating']\n",
    "\n",
    "MRPU.drop(['anime_id','rating'],axis=1, inplace=True)"
   ]
  },
  {
   "cell_type": "code",
   "execution_count": 143,
   "id": "c2fcfdc4",
   "metadata": {},
   "outputs": [
    {
     "data": {
      "text/html": [
       "<div>\n",
       "<style scoped>\n",
       "    .dataframe tbody tr th:only-of-type {\n",
       "        vertical-align: middle;\n",
       "    }\n",
       "\n",
       "    .dataframe tbody tr th {\n",
       "        vertical-align: top;\n",
       "    }\n",
       "\n",
       "    .dataframe thead th {\n",
       "        text-align: right;\n",
       "    }\n",
       "</style>\n",
       "<table border=\"1\" class=\"dataframe\">\n",
       "  <thead>\n",
       "    <tr style=\"text-align: right;\">\n",
       "      <th></th>\n",
       "      <th>user_id</th>\n",
       "      <th>mean_rating</th>\n",
       "    </tr>\n",
       "  </thead>\n",
       "  <tbody>\n",
       "    <tr>\n",
       "      <th>0</th>\n",
       "      <td>1</td>\n",
       "      <td>-0.712418</td>\n",
       "    </tr>\n",
       "    <tr>\n",
       "      <th>1</th>\n",
       "      <td>2</td>\n",
       "      <td>2.666667</td>\n",
       "    </tr>\n",
       "    <tr>\n",
       "      <th>2</th>\n",
       "      <td>3</td>\n",
       "      <td>7.382979</td>\n",
       "    </tr>\n",
       "    <tr>\n",
       "      <th>3</th>\n",
       "      <td>4</td>\n",
       "      <td>-1.000000</td>\n",
       "    </tr>\n",
       "    <tr>\n",
       "      <th>4</th>\n",
       "      <td>5</td>\n",
       "      <td>4.263383</td>\n",
       "    </tr>\n",
       "    <tr>\n",
       "      <th>5</th>\n",
       "      <td>6</td>\n",
       "      <td>-1.000000</td>\n",
       "    </tr>\n",
       "    <tr>\n",
       "      <th>6</th>\n",
       "      <td>7</td>\n",
       "      <td>7.387755</td>\n",
       "    </tr>\n",
       "    <tr>\n",
       "      <th>7</th>\n",
       "      <td>8</td>\n",
       "      <td>8.333333</td>\n",
       "    </tr>\n",
       "    <tr>\n",
       "      <th>8</th>\n",
       "      <td>9</td>\n",
       "      <td>8.000000</td>\n",
       "    </tr>\n",
       "    <tr>\n",
       "      <th>9</th>\n",
       "      <td>10</td>\n",
       "      <td>2.875000</td>\n",
       "    </tr>\n",
       "  </tbody>\n",
       "</table>\n",
       "</div>"
      ],
      "text/plain": [
       "   user_id  mean_rating\n",
       "0        1    -0.712418\n",
       "1        2     2.666667\n",
       "2        3     7.382979\n",
       "3        4    -1.000000\n",
       "4        5     4.263383\n",
       "5        6    -1.000000\n",
       "6        7     7.387755\n",
       "7        8     8.333333\n",
       "8        9     8.000000\n",
       "9       10     2.875000"
      ]
     },
     "execution_count": 143,
     "metadata": {},
     "output_type": "execute_result"
    }
   ],
   "source": [
    "MRPU.head(10)"
   ]
  },
  {
   "cell_type": "code",
   "execution_count": 144,
   "id": "29447a77",
   "metadata": {},
   "outputs": [],
   "source": [
    "user = pd.merge(rating,MRPU,on=['user_id','user_id'])"
   ]
  },
  {
   "cell_type": "code",
   "execution_count": 145,
   "id": "8855b04d",
   "metadata": {},
   "outputs": [
    {
     "data": {
      "text/html": [
       "<div>\n",
       "<style scoped>\n",
       "    .dataframe tbody tr th:only-of-type {\n",
       "        vertical-align: middle;\n",
       "    }\n",
       "\n",
       "    .dataframe tbody tr th {\n",
       "        vertical-align: top;\n",
       "    }\n",
       "\n",
       "    .dataframe thead th {\n",
       "        text-align: right;\n",
       "    }\n",
       "</style>\n",
       "<table border=\"1\" class=\"dataframe\">\n",
       "  <thead>\n",
       "    <tr style=\"text-align: right;\">\n",
       "      <th></th>\n",
       "      <th>user_id</th>\n",
       "      <th>anime_id</th>\n",
       "      <th>rating</th>\n",
       "      <th>mean_rating</th>\n",
       "    </tr>\n",
       "  </thead>\n",
       "  <tbody>\n",
       "    <tr>\n",
       "      <th>0</th>\n",
       "      <td>1</td>\n",
       "      <td>20</td>\n",
       "      <td>-1</td>\n",
       "      <td>-0.712418</td>\n",
       "    </tr>\n",
       "    <tr>\n",
       "      <th>1</th>\n",
       "      <td>1</td>\n",
       "      <td>24</td>\n",
       "      <td>-1</td>\n",
       "      <td>-0.712418</td>\n",
       "    </tr>\n",
       "    <tr>\n",
       "      <th>2</th>\n",
       "      <td>1</td>\n",
       "      <td>79</td>\n",
       "      <td>-1</td>\n",
       "      <td>-0.712418</td>\n",
       "    </tr>\n",
       "    <tr>\n",
       "      <th>3</th>\n",
       "      <td>1</td>\n",
       "      <td>226</td>\n",
       "      <td>-1</td>\n",
       "      <td>-0.712418</td>\n",
       "    </tr>\n",
       "    <tr>\n",
       "      <th>4</th>\n",
       "      <td>1</td>\n",
       "      <td>241</td>\n",
       "      <td>-1</td>\n",
       "      <td>-0.712418</td>\n",
       "    </tr>\n",
       "  </tbody>\n",
       "</table>\n",
       "</div>"
      ],
      "text/plain": [
       "   user_id  anime_id  rating  mean_rating\n",
       "0        1        20      -1    -0.712418\n",
       "1        1        24      -1    -0.712418\n",
       "2        1        79      -1    -0.712418\n",
       "3        1       226      -1    -0.712418\n",
       "4        1       241      -1    -0.712418"
      ]
     },
     "execution_count": 145,
     "metadata": {},
     "output_type": "execute_result"
    }
   ],
   "source": [
    "user.head(5)"
   ]
  },
  {
   "cell_type": "code",
   "execution_count": 146,
   "id": "8c951447",
   "metadata": {},
   "outputs": [],
   "source": [
    "user = user.drop(user[user.rating < 0].index)"
   ]
  },
  {
   "cell_type": "code",
   "execution_count": 147,
   "id": "2d753151",
   "metadata": {},
   "outputs": [
    {
     "name": "stdout",
     "output_type": "stream",
     "text": [
      "(6337240, 4)\n"
     ]
    }
   ],
   "source": [
    "print(user.shape)"
   ]
  },
  {
   "cell_type": "code",
   "execution_count": 148,
   "id": "39bb1829",
   "metadata": {},
   "outputs": [],
   "source": [
    "user = user.rename({'rating':'userRating'}, axis='columns')"
   ]
  },
  {
   "cell_type": "code",
   "execution_count": 149,
   "id": "927e9f3b",
   "metadata": {},
   "outputs": [
    {
     "data": {
      "text/html": [
       "<div>\n",
       "<style scoped>\n",
       "    .dataframe tbody tr th:only-of-type {\n",
       "        vertical-align: middle;\n",
       "    }\n",
       "\n",
       "    .dataframe tbody tr th {\n",
       "        vertical-align: top;\n",
       "    }\n",
       "\n",
       "    .dataframe thead th {\n",
       "        text-align: right;\n",
       "    }\n",
       "</style>\n",
       "<table border=\"1\" class=\"dataframe\">\n",
       "  <thead>\n",
       "    <tr style=\"text-align: right;\">\n",
       "      <th></th>\n",
       "      <th>anime_id</th>\n",
       "      <th>name</th>\n",
       "      <th>genre</th>\n",
       "      <th>type</th>\n",
       "      <th>episodes</th>\n",
       "      <th>rating</th>\n",
       "      <th>members</th>\n",
       "      <th>user_id</th>\n",
       "      <th>userRating</th>\n",
       "      <th>mean_rating</th>\n",
       "    </tr>\n",
       "  </thead>\n",
       "  <tbody>\n",
       "    <tr>\n",
       "      <th>0</th>\n",
       "      <td>32281</td>\n",
       "      <td>Kimi no Na wa.</td>\n",
       "      <td>Drama, Romance, School, Supernatural</td>\n",
       "      <td>Movie</td>\n",
       "      <td>1</td>\n",
       "      <td>9.37</td>\n",
       "      <td>200630</td>\n",
       "      <td>99</td>\n",
       "      <td>5</td>\n",
       "      <td>5.687023</td>\n",
       "    </tr>\n",
       "    <tr>\n",
       "      <th>1</th>\n",
       "      <td>32281</td>\n",
       "      <td>Kimi no Na wa.</td>\n",
       "      <td>Drama, Romance, School, Supernatural</td>\n",
       "      <td>Movie</td>\n",
       "      <td>1</td>\n",
       "      <td>9.37</td>\n",
       "      <td>200630</td>\n",
       "      <td>152</td>\n",
       "      <td>10</td>\n",
       "      <td>7.699301</td>\n",
       "    </tr>\n",
       "    <tr>\n",
       "      <th>2</th>\n",
       "      <td>32281</td>\n",
       "      <td>Kimi no Na wa.</td>\n",
       "      <td>Drama, Romance, School, Supernatural</td>\n",
       "      <td>Movie</td>\n",
       "      <td>1</td>\n",
       "      <td>9.37</td>\n",
       "      <td>200630</td>\n",
       "      <td>244</td>\n",
       "      <td>10</td>\n",
       "      <td>8.729242</td>\n",
       "    </tr>\n",
       "    <tr>\n",
       "      <th>3</th>\n",
       "      <td>32281</td>\n",
       "      <td>Kimi no Na wa.</td>\n",
       "      <td>Drama, Romance, School, Supernatural</td>\n",
       "      <td>Movie</td>\n",
       "      <td>1</td>\n",
       "      <td>9.37</td>\n",
       "      <td>200630</td>\n",
       "      <td>271</td>\n",
       "      <td>10</td>\n",
       "      <td>7.372287</td>\n",
       "    </tr>\n",
       "    <tr>\n",
       "      <th>4</th>\n",
       "      <td>32281</td>\n",
       "      <td>Kimi no Na wa.</td>\n",
       "      <td>Drama, Romance, School, Supernatural</td>\n",
       "      <td>Movie</td>\n",
       "      <td>1</td>\n",
       "      <td>9.37</td>\n",
       "      <td>200630</td>\n",
       "      <td>322</td>\n",
       "      <td>10</td>\n",
       "      <td>8.356322</td>\n",
       "    </tr>\n",
       "    <tr>\n",
       "      <th>5</th>\n",
       "      <td>32281</td>\n",
       "      <td>Kimi no Na wa.</td>\n",
       "      <td>Drama, Romance, School, Supernatural</td>\n",
       "      <td>Movie</td>\n",
       "      <td>1</td>\n",
       "      <td>9.37</td>\n",
       "      <td>200630</td>\n",
       "      <td>398</td>\n",
       "      <td>10</td>\n",
       "      <td>-0.832298</td>\n",
       "    </tr>\n",
       "    <tr>\n",
       "      <th>6</th>\n",
       "      <td>32281</td>\n",
       "      <td>Kimi no Na wa.</td>\n",
       "      <td>Drama, Romance, School, Supernatural</td>\n",
       "      <td>Movie</td>\n",
       "      <td>1</td>\n",
       "      <td>9.37</td>\n",
       "      <td>200630</td>\n",
       "      <td>462</td>\n",
       "      <td>8</td>\n",
       "      <td>7.374593</td>\n",
       "    </tr>\n",
       "    <tr>\n",
       "      <th>7</th>\n",
       "      <td>32281</td>\n",
       "      <td>Kimi no Na wa.</td>\n",
       "      <td>Drama, Romance, School, Supernatural</td>\n",
       "      <td>Movie</td>\n",
       "      <td>1</td>\n",
       "      <td>9.37</td>\n",
       "      <td>200630</td>\n",
       "      <td>490</td>\n",
       "      <td>10</td>\n",
       "      <td>8.062500</td>\n",
       "    </tr>\n",
       "    <tr>\n",
       "      <th>8</th>\n",
       "      <td>32281</td>\n",
       "      <td>Kimi no Na wa.</td>\n",
       "      <td>Drama, Romance, School, Supernatural</td>\n",
       "      <td>Movie</td>\n",
       "      <td>1</td>\n",
       "      <td>9.37</td>\n",
       "      <td>200630</td>\n",
       "      <td>548</td>\n",
       "      <td>10</td>\n",
       "      <td>8.112360</td>\n",
       "    </tr>\n",
       "    <tr>\n",
       "      <th>9</th>\n",
       "      <td>32281</td>\n",
       "      <td>Kimi no Na wa.</td>\n",
       "      <td>Drama, Romance, School, Supernatural</td>\n",
       "      <td>Movie</td>\n",
       "      <td>1</td>\n",
       "      <td>9.37</td>\n",
       "      <td>200630</td>\n",
       "      <td>570</td>\n",
       "      <td>10</td>\n",
       "      <td>8.388889</td>\n",
       "    </tr>\n",
       "  </tbody>\n",
       "</table>\n",
       "</div>"
      ],
      "text/plain": [
       "   anime_id            name                                 genre   type  \\\n",
       "0     32281  Kimi no Na wa.  Drama, Romance, School, Supernatural  Movie   \n",
       "1     32281  Kimi no Na wa.  Drama, Romance, School, Supernatural  Movie   \n",
       "2     32281  Kimi no Na wa.  Drama, Romance, School, Supernatural  Movie   \n",
       "3     32281  Kimi no Na wa.  Drama, Romance, School, Supernatural  Movie   \n",
       "4     32281  Kimi no Na wa.  Drama, Romance, School, Supernatural  Movie   \n",
       "5     32281  Kimi no Na wa.  Drama, Romance, School, Supernatural  Movie   \n",
       "6     32281  Kimi no Na wa.  Drama, Romance, School, Supernatural  Movie   \n",
       "7     32281  Kimi no Na wa.  Drama, Romance, School, Supernatural  Movie   \n",
       "8     32281  Kimi no Na wa.  Drama, Romance, School, Supernatural  Movie   \n",
       "9     32281  Kimi no Na wa.  Drama, Romance, School, Supernatural  Movie   \n",
       "\n",
       "   episodes  rating  members  user_id  userRating  mean_rating  \n",
       "0         1    9.37   200630       99           5     5.687023  \n",
       "1         1    9.37   200630      152          10     7.699301  \n",
       "2         1    9.37   200630      244          10     8.729242  \n",
       "3         1    9.37   200630      271          10     7.372287  \n",
       "4         1    9.37   200630      322          10     8.356322  \n",
       "5         1    9.37   200630      398          10    -0.832298  \n",
       "6         1    9.37   200630      462           8     7.374593  \n",
       "7         1    9.37   200630      490          10     8.062500  \n",
       "8         1    9.37   200630      548          10     8.112360  \n",
       "9         1    9.37   200630      570          10     8.388889  "
      ]
     },
     "execution_count": 149,
     "metadata": {},
     "output_type": "execute_result"
    }
   ],
   "source": [
    "# merge 2 dataset\n",
    "mergedata = pd.merge(anime,user,on=['anime_id','anime_id'])\n",
    "mergedata.head(10)"
   ]
  },
  {
   "cell_type": "code",
   "execution_count": 150,
   "id": "b016b189",
   "metadata": {},
   "outputs": [
    {
     "data": {
      "text/plain": [
       "9925"
      ]
     },
     "execution_count": 150,
     "metadata": {},
     "output_type": "execute_result"
    }
   ],
   "source": [
    "len(mergedata['anime_id'].unique())"
   ]
  },
  {
   "cell_type": "code",
   "execution_count": 151,
   "id": "2a406489",
   "metadata": {},
   "outputs": [
    {
     "data": {
      "text/plain": [
       "(6337236, 10)"
      ]
     },
     "execution_count": 151,
     "metadata": {},
     "output_type": "execute_result"
    }
   ],
   "source": [
    "mergedata.shape"
   ]
  },
  {
   "cell_type": "code",
   "execution_count": 152,
   "id": "4e1bad6e",
   "metadata": {},
   "outputs": [
    {
     "data": {
      "text/plain": [
       "anime_id       0\n",
       "name           0\n",
       "genre          0\n",
       "type           0\n",
       "episodes       0\n",
       "rating         0\n",
       "members        0\n",
       "user_id        0\n",
       "userRating     0\n",
       "mean_rating    0\n",
       "dtype: int64"
      ]
     },
     "execution_count": 152,
     "metadata": {},
     "output_type": "execute_result"
    }
   ],
   "source": [
    "mergedata.isnull().sum()"
   ]
  },
  {
   "cell_type": "code",
   "execution_count": 116,
   "id": "172d4d3d",
   "metadata": {},
   "outputs": [
    {
     "data": {
      "text/plain": [
       "rating        2.0\n",
       "userRating    1.0\n",
       "dtype: float64"
      ]
     },
     "execution_count": 116,
     "metadata": {},
     "output_type": "execute_result"
    }
   ],
   "source": [
    "mergedata[['rating','userRating']].min()"
   ]
  },
  {
   "cell_type": "code",
   "execution_count": 153,
   "id": "2e3d5b20",
   "metadata": {},
   "outputs": [],
   "source": [
    "mergedata.to_csv(\"merged_anime_data.csv\", index=False)"
   ]
  },
  {
   "cell_type": "code",
   "execution_count": null,
   "id": "46f84219",
   "metadata": {},
   "outputs": [],
   "source": []
  }
 ],
 "metadata": {
  "kernelspec": {
   "display_name": "cf310",
   "language": "python",
   "name": "python3"
  },
  "language_info": {
   "codemirror_mode": {
    "name": "ipython",
    "version": 3
   },
   "file_extension": ".py",
   "mimetype": "text/x-python",
   "name": "python",
   "nbconvert_exporter": "python",
   "pygments_lexer": "ipython3",
   "version": "3.10.18"
  }
 },
 "nbformat": 4,
 "nbformat_minor": 5
}
