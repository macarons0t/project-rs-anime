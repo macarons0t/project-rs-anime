{
 "cells": [
  {
   "cell_type": "code",
   "execution_count": null,
   "id": "2b0fd76f",
   "metadata": {},
   "outputs": [],
   "source": [
    "# Step 1: Load data\n",
    "import pandas as pd\n",
    "\n",
    "anime_df = pd.read_csv('anime.csv')  # Ensure 'anime.csv' is in your working directory\n",
    "anime_df = anime_df[['name', 'genre', 'rating']].dropna(subset=['name'])\n",
    "\n",
    "# Fill missing genres with empty strings\n",
    "anime_df['genre'] = anime_df['genre'].fillna('')"
   ]
  },
  {
   "cell_type": "code",
   "execution_count": null,
   "id": "cd92faac",
   "metadata": {},
   "outputs": [],
   "source": [
    "# Step 2: TF-IDF Vectorization\n",
    "from sklearn.feature_extraction.text import TfidfVectorizer\n",
    "\n",
    "tfidf = TfidfVectorizer(stop_words='english')\n",
    "tfidf_matrix = tfidf.fit_transform(anime_df['genre'])  # Shape: (num_anime, num_features)"
   ]
  },
  {
   "cell_type": "code",
   "execution_count": null,
   "id": "0cbc5908",
   "metadata": {},
   "outputs": [],
   "source": [
    "# Step 3: Compute Cosine Similarity\n",
    "from sklearn.metrics.pairwise import cosine_similarity\n",
    "\n",
    "cos_sim = cosine_similarity(tfidf_matrix, tfidf_matrix)"
   ]
  },
  {
   "cell_type": "code",
   "execution_count": null,
   "id": "cfef3324",
   "metadata": {},
   "outputs": [],
   "source": [
    "# Step 4: Index anime titles\n",
    "anime_indices = pd.Series(anime_df.index, index=anime_df['name']).drop_duplicates()"
   ]
  },
  {
   "cell_type": "code",
   "execution_count": null,
   "id": "70dbc602",
   "metadata": {},
   "outputs": [],
   "source": [
    "# Step 5: Define recommendation function\n",
    "def recommend(title, n=5):\n",
    "    if title not in anime_indices:\n",
    "        return f\"Anime title '{title}' not found.\"\n",
    "\n",
    "    idx = anime_indices[title]\n",
    "    sim_scores = list(enumerate(cos_sim[idx]))\n",
    "    sim_scores = sorted(sim_scores, key=lambda x: x[1], reverse=True)[1:n+1]  # Exclude self\n",
    "    anime_ids = [i for i, _ in sim_scores]\n",
    "\n",
    "    return anime_df[['name', 'rating']].iloc[anime_ids].reset_index(drop=True)\n",
    "\n",
    "# Example usage:\n",
    "recommend(\"Naruto\")"
   ]
  }
 ],
 "metadata": {
  "language_info": {
   "name": "python"
  }
 },
 "nbformat": 4,
 "nbformat_minor": 5
}
