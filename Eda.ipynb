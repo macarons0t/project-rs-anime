{
 "cells": [
  {
   "cell_type": "code",
   "execution_count": 25,
   "id": "ce33ceed",
   "metadata": {},
   "outputs": [],
   "source": [
    "from mpl_toolkits.mplot3d import Axes3D\n",
    "from sklearn.preprocessing import StandardScaler\n",
    "import matplotlib.pyplot as plt # plotting\n",
    "import numpy as np # linear algebra\n",
    "import os # accessing directory structure\n",
    "import pandas as pd # data processing, CSV file I/O (e.g. pd.read_csv)\n",
    "\n",
    "import seaborn as sns\n"
   ]
  },
  {
   "cell_type": "markdown",
   "id": "5221294a",
   "metadata": {},
   "source": [
    "## Loading"
   ]
  },
  {
   "cell_type": "code",
   "execution_count": 9,
   "id": "9ed8cbcb",
   "metadata": {},
   "outputs": [],
   "source": [
    "anime = pd.read_csv('anime.csv', delimiter=',')\n",
    "rating = pd.read_csv('rating.csv', delimiter=',')\n"
   ]
  },
  {
   "cell_type": "code",
   "execution_count": 10,
   "id": "7ed5cb27",
   "metadata": {},
   "outputs": [
    {
     "name": "stdout",
     "output_type": "stream",
     "text": [
      "(12294, 7)\n",
      "(7813737, 3)\n"
     ]
    }
   ],
   "source": [
    "print(anime.shape)\n",
    "print(rating.shape)"
   ]
  },
  {
   "cell_type": "code",
   "execution_count": 11,
   "id": "efcd92a5",
   "metadata": {},
   "outputs": [
    {
     "data": {
      "text/html": [
       "<div>\n",
       "<style scoped>\n",
       "    .dataframe tbody tr th:only-of-type {\n",
       "        vertical-align: middle;\n",
       "    }\n",
       "\n",
       "    .dataframe tbody tr th {\n",
       "        vertical-align: top;\n",
       "    }\n",
       "\n",
       "    .dataframe thead th {\n",
       "        text-align: right;\n",
       "    }\n",
       "</style>\n",
       "<table border=\"1\" class=\"dataframe\">\n",
       "  <thead>\n",
       "    <tr style=\"text-align: right;\">\n",
       "      <th></th>\n",
       "      <th>anime_id</th>\n",
       "      <th>name</th>\n",
       "      <th>genre</th>\n",
       "      <th>type</th>\n",
       "      <th>episodes</th>\n",
       "      <th>rating</th>\n",
       "      <th>members</th>\n",
       "    </tr>\n",
       "  </thead>\n",
       "  <tbody>\n",
       "    <tr>\n",
       "      <th>0</th>\n",
       "      <td>32281</td>\n",
       "      <td>Kimi no Na wa.</td>\n",
       "      <td>Drama, Romance, School, Supernatural</td>\n",
       "      <td>Movie</td>\n",
       "      <td>1</td>\n",
       "      <td>9.37</td>\n",
       "      <td>200630</td>\n",
       "    </tr>\n",
       "    <tr>\n",
       "      <th>1</th>\n",
       "      <td>5114</td>\n",
       "      <td>Fullmetal Alchemist: Brotherhood</td>\n",
       "      <td>Action, Adventure, Drama, Fantasy, Magic, Mili...</td>\n",
       "      <td>TV</td>\n",
       "      <td>64</td>\n",
       "      <td>9.26</td>\n",
       "      <td>793665</td>\n",
       "    </tr>\n",
       "    <tr>\n",
       "      <th>2</th>\n",
       "      <td>28977</td>\n",
       "      <td>Gintama°</td>\n",
       "      <td>Action, Comedy, Historical, Parody, Samurai, S...</td>\n",
       "      <td>TV</td>\n",
       "      <td>51</td>\n",
       "      <td>9.25</td>\n",
       "      <td>114262</td>\n",
       "    </tr>\n",
       "    <tr>\n",
       "      <th>3</th>\n",
       "      <td>9253</td>\n",
       "      <td>Steins;Gate</td>\n",
       "      <td>Sci-Fi, Thriller</td>\n",
       "      <td>TV</td>\n",
       "      <td>24</td>\n",
       "      <td>9.17</td>\n",
       "      <td>673572</td>\n",
       "    </tr>\n",
       "    <tr>\n",
       "      <th>4</th>\n",
       "      <td>9969</td>\n",
       "      <td>Gintama&amp;#039;</td>\n",
       "      <td>Action, Comedy, Historical, Parody, Samurai, S...</td>\n",
       "      <td>TV</td>\n",
       "      <td>51</td>\n",
       "      <td>9.16</td>\n",
       "      <td>151266</td>\n",
       "    </tr>\n",
       "  </tbody>\n",
       "</table>\n",
       "</div>"
      ],
      "text/plain": [
       "   anime_id                              name  \\\n",
       "0     32281                    Kimi no Na wa.   \n",
       "1      5114  Fullmetal Alchemist: Brotherhood   \n",
       "2     28977                          Gintama°   \n",
       "3      9253                       Steins;Gate   \n",
       "4      9969                     Gintama&#039;   \n",
       "\n",
       "                                               genre   type episodes  rating  \\\n",
       "0               Drama, Romance, School, Supernatural  Movie        1    9.37   \n",
       "1  Action, Adventure, Drama, Fantasy, Magic, Mili...     TV       64    9.26   \n",
       "2  Action, Comedy, Historical, Parody, Samurai, S...     TV       51    9.25   \n",
       "3                                   Sci-Fi, Thriller     TV       24    9.17   \n",
       "4  Action, Comedy, Historical, Parody, Samurai, S...     TV       51    9.16   \n",
       "\n",
       "   members  \n",
       "0   200630  \n",
       "1   793665  \n",
       "2   114262  \n",
       "3   673572  \n",
       "4   151266  "
      ]
     },
     "execution_count": 11,
     "metadata": {},
     "output_type": "execute_result"
    }
   ],
   "source": [
    "anime.head()"
   ]
  },
  {
   "cell_type": "code",
   "execution_count": 12,
   "id": "29386933",
   "metadata": {},
   "outputs": [
    {
     "data": {
      "text/html": [
       "<div>\n",
       "<style scoped>\n",
       "    .dataframe tbody tr th:only-of-type {\n",
       "        vertical-align: middle;\n",
       "    }\n",
       "\n",
       "    .dataframe tbody tr th {\n",
       "        vertical-align: top;\n",
       "    }\n",
       "\n",
       "    .dataframe thead th {\n",
       "        text-align: right;\n",
       "    }\n",
       "</style>\n",
       "<table border=\"1\" class=\"dataframe\">\n",
       "  <thead>\n",
       "    <tr style=\"text-align: right;\">\n",
       "      <th></th>\n",
       "      <th>user_id</th>\n",
       "      <th>anime_id</th>\n",
       "      <th>rating</th>\n",
       "    </tr>\n",
       "  </thead>\n",
       "  <tbody>\n",
       "    <tr>\n",
       "      <th>0</th>\n",
       "      <td>1</td>\n",
       "      <td>20</td>\n",
       "      <td>-1</td>\n",
       "    </tr>\n",
       "    <tr>\n",
       "      <th>1</th>\n",
       "      <td>1</td>\n",
       "      <td>24</td>\n",
       "      <td>-1</td>\n",
       "    </tr>\n",
       "    <tr>\n",
       "      <th>2</th>\n",
       "      <td>1</td>\n",
       "      <td>79</td>\n",
       "      <td>-1</td>\n",
       "    </tr>\n",
       "    <tr>\n",
       "      <th>3</th>\n",
       "      <td>1</td>\n",
       "      <td>226</td>\n",
       "      <td>-1</td>\n",
       "    </tr>\n",
       "    <tr>\n",
       "      <th>4</th>\n",
       "      <td>1</td>\n",
       "      <td>241</td>\n",
       "      <td>-1</td>\n",
       "    </tr>\n",
       "  </tbody>\n",
       "</table>\n",
       "</div>"
      ],
      "text/plain": [
       "   user_id  anime_id  rating\n",
       "0        1        20      -1\n",
       "1        1        24      -1\n",
       "2        1        79      -1\n",
       "3        1       226      -1\n",
       "4        1       241      -1"
      ]
     },
     "execution_count": 12,
     "metadata": {},
     "output_type": "execute_result"
    }
   ],
   "source": [
    "rating.head()"
   ]
  },
  {
   "cell_type": "code",
   "execution_count": 13,
   "id": "40b6afa4",
   "metadata": {},
   "outputs": [],
   "source": [
    "def first_look(df):\n",
    "    print('dataset shape: \\n')\n",
    "    print('number of rows: ',df.shape[0],' number of columns: ',df.shape[1])\n",
    "    print('dataset column names: \\n')\n",
    "    print(df.columns)\n",
    "    print('columns data-type')\n",
    "    print(df.dtypes)\n",
    "    print('missing data')\n",
    "    c=df.isnull().sum()\n",
    "    print(c[c>0])"
   ]
  },
  {
   "cell_type": "markdown",
   "id": "fabdf09a",
   "metadata": {},
   "source": [
    "Anime dataset"
   ]
  },
  {
   "cell_type": "code",
   "execution_count": 14,
   "id": "00c3c00c",
   "metadata": {},
   "outputs": [
    {
     "name": "stdout",
     "output_type": "stream",
     "text": [
      "dataset shape: \n",
      "\n",
      "number of rows:  12294  number of columns:  7\n",
      "dataset column names: \n",
      "\n",
      "Index(['anime_id', 'name', 'genre', 'type', 'episodes', 'rating', 'members'], dtype='object')\n",
      "columns data-type\n",
      "anime_id      int64\n",
      "name         object\n",
      "genre        object\n",
      "type         object\n",
      "episodes     object\n",
      "rating      float64\n",
      "members       int64\n",
      "dtype: object\n",
      "missing data\n",
      "genre      62\n",
      "type       25\n",
      "rating    230\n",
      "dtype: int64\n"
     ]
    }
   ],
   "source": [
    "first_look(anime)"
   ]
  },
  {
   "cell_type": "markdown",
   "id": "428e3fe3",
   "metadata": {},
   "source": [
    "rating dataset"
   ]
  },
  {
   "cell_type": "code",
   "execution_count": 15,
   "id": "2a6990d3",
   "metadata": {},
   "outputs": [
    {
     "name": "stdout",
     "output_type": "stream",
     "text": [
      "dataset shape: \n",
      "\n",
      "number of rows:  7813737  number of columns:  3\n",
      "dataset column names: \n",
      "\n",
      "Index(['user_id', 'anime_id', 'rating'], dtype='object')\n",
      "columns data-type\n",
      "user_id     int64\n",
      "anime_id    int64\n",
      "rating      int64\n",
      "dtype: object\n",
      "missing data\n",
      "Series([], dtype: int64)\n"
     ]
    }
   ],
   "source": [
    "first_look(rating)"
   ]
  },
  {
   "cell_type": "code",
   "execution_count": 16,
   "id": "d91395c2",
   "metadata": {},
   "outputs": [],
   "source": [
    "anime['episodes']=anime['episodes'].replace('Unknown',np.nan)\n",
    "anime['episodes']=anime['episodes'].astype(float)"
   ]
  },
  {
   "cell_type": "code",
   "execution_count": 17,
   "id": "61606b54",
   "metadata": {},
   "outputs": [
    {
     "data": {
      "text/plain": [
       "3"
      ]
     },
     "execution_count": 17,
     "metadata": {},
     "output_type": "execute_result"
    }
   ],
   "source": [
    "shared_id=anime[anime['anime_id'].isin(rating['anime_id'])]\n",
    "shared_id['rating'].isnull().sum()"
   ]
  },
  {
   "cell_type": "markdown",
   "id": "46c9c236",
   "metadata": {},
   "source": [
    "there are missing ratings in anime dataset, that have an anime_id in rating column"
   ]
  },
  {
   "cell_type": "code",
   "execution_count": 18,
   "id": "c76027ce",
   "metadata": {},
   "outputs": [
    {
     "name": "stdout",
     "output_type": "stream",
     "text": [
      "median value:  9.0\n",
      "index 10898 done!\n",
      "median value:  -1.0\n",
      "index 10919 done!\n",
      "median value:  7.0\n",
      "index 10951 done!\n"
     ]
    }
   ],
   "source": [
    "for i,j in zip(shared_id[shared_id['rating'].isnull()].index,shared_id[shared_id['rating'].isnull()]['anime_id'].values):\n",
    "    median_value=rating[rating['anime_id']==j]['rating'].median()\n",
    "    print('median value: ',median_value)\n",
    "    anime.loc[i,'rating']=median_value\n",
    "    print('index {} done!'.format(str(i)))"
   ]
  },
  {
   "cell_type": "code",
   "execution_count": 19,
   "id": "5ec084b7",
   "metadata": {},
   "outputs": [],
   "source": [
    "anime.dropna(subset=['rating'],axis=0,inplace=True)"
   ]
  },
  {
   "cell_type": "code",
   "execution_count": 20,
   "id": "da9f0079",
   "metadata": {},
   "outputs": [],
   "source": [
    "anime['genre']=anime['genre'].str.replace(', ',',')"
   ]
  },
  {
   "cell_type": "code",
   "execution_count": 21,
   "id": "94754066",
   "metadata": {},
   "outputs": [],
   "source": [
    "anime=anime.drop_duplicates('name')"
   ]
  },
  {
   "cell_type": "markdown",
   "id": "b6109210",
   "metadata": {},
   "source": [
    "## EDA"
   ]
  },
  {
   "cell_type": "code",
   "execution_count": 22,
   "id": "70c8987e",
   "metadata": {},
   "outputs": [
    {
     "data": {
      "image/png": "[encoded data removed]",
      "text/plain": [
       "<Figure size 800x800 with 1 Axes>"
      ]
     },
     "metadata": {},
     "output_type": "display_data"
    }
   ],
   "source": [
    "anime['type'].value_counts().plot.pie(autopct='%.1f%%',labels=None,shadow=True,figsize=(8,8))\n",
    "plt.title('type of Animes in dataset')\n",
    "plt.ylabel('')\n",
    "plt.legend(anime['type'].value_counts().index.tolist(),loc='upper right')\n",
    "plt.show()"
   ]
  },
  {
   "cell_type": "code",
   "execution_count": 26,
   "id": "67d2ef88",
   "metadata": {},
   "outputs": [
    {
     "data": {
      "image/png": "[encoded data removed]",
      "text/plain": [
       "<Figure size 1000x500 with 1 Axes>"
      ]
     },
     "metadata": {},
     "output_type": "display_data"
    }
   ],
   "source": [
    "plt.figure(figsize=(10,5))\n",
    "sns.boxplot(x='type',y='rating',data=anime)\n",
    "plt.title('anime-type VS rating')\n",
    "plt.show()"
   ]
  },
  {
   "cell_type": "code",
   "execution_count": 27,
   "id": "fef6871b",
   "metadata": {},
   "outputs": [
    {
     "name": "stdout",
     "output_type": "stream",
     "text": [
      "mean of Movie :\n",
      "\n",
      "6.315524597300827\n",
      "mean of TV :\n",
      "\n",
      "6.902299101062381\n",
      "mean of OVA :\n",
      "\n",
      "6.375220700152207\n",
      "mean of Special :\n",
      "\n",
      "6.523500897666069\n",
      "mean of Music :\n",
      "\n",
      "5.588995901639344\n",
      "mean of ONA :\n",
      "\n",
      "5.6432975460122705\n",
      "mean of nan :\n",
      "\n",
      "nan\n"
     ]
    }
   ],
   "source": [
    "for i in anime['type'].unique().tolist():\n",
    "    print('mean of '+str(i)+' :\\n')\n",
    "    print(anime[anime['type']==i]['rating'].mean())"
   ]
  },
  {
   "cell_type": "code",
   "execution_count": 28,
   "id": "4dd3e838",
   "metadata": {},
   "outputs": [
    {
     "data": {
      "image/png": "[encoded data removed]",
      "text/plain": [
       "<Figure size 800x800 with 1 Axes>"
      ]
     },
     "metadata": {},
     "output_type": "display_data"
    }
   ],
   "source": [
    "TV_anime=anime[anime['type']=='TV']\n",
    "TV_anime['genre'].value_counts().sort_values(ascending=True).tail(20).plot.barh(figsize=(8,8))\n",
    "plt.title('genres of TV-Animes')\n",
    "plt.xlabel('frequency')\n",
    "plt.ylabel('genres')\n",
    "plt.show()"
   ]
  },
  {
   "cell_type": "code",
   "execution_count": 29,
   "id": "f74d84e1",
   "metadata": {},
   "outputs": [
    {
     "data": {
      "text/html": [
       "<div>\n",
       "<style scoped>\n",
       "    .dataframe tbody tr th:only-of-type {\n",
       "        vertical-align: middle;\n",
       "    }\n",
       "\n",
       "    .dataframe tbody tr th {\n",
       "        vertical-align: top;\n",
       "    }\n",
       "\n",
       "    .dataframe thead th {\n",
       "        text-align: right;\n",
       "    }\n",
       "</style>\n",
       "<table border=\"1\" class=\"dataframe\">\n",
       "  <thead>\n",
       "    <tr style=\"text-align: right;\">\n",
       "      <th></th>\n",
       "      <th>episodes</th>\n",
       "      <th>rating</th>\n",
       "      <th>members</th>\n",
       "    </tr>\n",
       "  </thead>\n",
       "  <tbody>\n",
       "    <tr>\n",
       "      <th>count</th>\n",
       "      <td>3570.000000</td>\n",
       "      <td>3671.000000</td>\n",
       "      <td>3.671000e+03</td>\n",
       "    </tr>\n",
       "    <tr>\n",
       "      <th>mean</th>\n",
       "      <td>35.969468</td>\n",
       "      <td>6.902299</td>\n",
       "      <td>4.377497e+04</td>\n",
       "    </tr>\n",
       "    <tr>\n",
       "      <th>std</th>\n",
       "      <td>80.722257</td>\n",
       "      <td>0.863526</td>\n",
       "      <td>9.023887e+04</td>\n",
       "    </tr>\n",
       "    <tr>\n",
       "      <th>min</th>\n",
       "      <td>2.000000</td>\n",
       "      <td>2.670000</td>\n",
       "      <td>1.200000e+01</td>\n",
       "    </tr>\n",
       "    <tr>\n",
       "      <th>25%</th>\n",
       "      <td>12.000000</td>\n",
       "      <td>6.440000</td>\n",
       "      <td>4.740000e+02</td>\n",
       "    </tr>\n",
       "    <tr>\n",
       "      <th>50%</th>\n",
       "      <td>24.000000</td>\n",
       "      <td>6.940000</td>\n",
       "      <td>6.227000e+03</td>\n",
       "    </tr>\n",
       "    <tr>\n",
       "      <th>75%</th>\n",
       "      <td>39.000000</td>\n",
       "      <td>7.460000</td>\n",
       "      <td>4.597250e+04</td>\n",
       "    </tr>\n",
       "    <tr>\n",
       "      <th>max</th>\n",
       "      <td>1818.000000</td>\n",
       "      <td>9.600000</td>\n",
       "      <td>1.013917e+06</td>\n",
       "    </tr>\n",
       "  </tbody>\n",
       "</table>\n",
       "</div>"
      ],
      "text/plain": [
       "          episodes       rating       members\n",
       "count  3570.000000  3671.000000  3.671000e+03\n",
       "mean     35.969468     6.902299  4.377497e+04\n",
       "std      80.722257     0.863526  9.023887e+04\n",
       "min       2.000000     2.670000  1.200000e+01\n",
       "25%      12.000000     6.440000  4.740000e+02\n",
       "50%      24.000000     6.940000  6.227000e+03\n",
       "75%      39.000000     7.460000  4.597250e+04\n",
       "max    1818.000000     9.600000  1.013917e+06"
      ]
     },
     "execution_count": 29,
     "metadata": {},
     "output_type": "execute_result"
    }
   ],
   "source": [
    "TV_anime.drop('anime_id',axis=1).describe()"
   ]
  },
  {
   "cell_type": "markdown",
   "id": "4a896045",
   "metadata": {},
   "source": [
    "let's see which TV anime has the maximum episodes, and which has the minimum"
   ]
  },
  {
   "cell_type": "code",
   "execution_count": 30,
   "id": "2dd416c0",
   "metadata": {},
   "outputs": [
    {
     "data": {
      "text/html": [
       "<div>\n",
       "<style scoped>\n",
       "    .dataframe tbody tr th:only-of-type {\n",
       "        vertical-align: middle;\n",
       "    }\n",
       "\n",
       "    .dataframe tbody tr th {\n",
       "        vertical-align: top;\n",
       "    }\n",
       "\n",
       "    .dataframe thead th {\n",
       "        text-align: right;\n",
       "    }\n",
       "</style>\n",
       "<table border=\"1\" class=\"dataframe\">\n",
       "  <thead>\n",
       "    <tr style=\"text-align: right;\">\n",
       "      <th></th>\n",
       "      <th>anime_id</th>\n",
       "      <th>name</th>\n",
       "      <th>genre</th>\n",
       "      <th>type</th>\n",
       "      <th>episodes</th>\n",
       "      <th>rating</th>\n",
       "      <th>members</th>\n",
       "    </tr>\n",
       "  </thead>\n",
       "  <tbody>\n",
       "    <tr>\n",
       "      <th>6296</th>\n",
       "      <td>12393</td>\n",
       "      <td>Oyako Club</td>\n",
       "      <td>Comedy,Slice of Life</td>\n",
       "      <td>TV</td>\n",
       "      <td>1818.0</td>\n",
       "      <td>6.18</td>\n",
       "      <td>160</td>\n",
       "    </tr>\n",
       "  </tbody>\n",
       "</table>\n",
       "</div>"
      ],
      "text/plain": [
       "      anime_id        name                 genre type  episodes  rating  \\\n",
       "6296     12393  Oyako Club  Comedy,Slice of Life   TV    1818.0    6.18   \n",
       "\n",
       "      members  \n",
       "6296      160  "
      ]
     },
     "execution_count": 30,
     "metadata": {},
     "output_type": "execute_result"
    }
   ],
   "source": [
    "TV_anime[TV_anime['episodes']==TV_anime['episodes'].max()]"
   ]
  },
  {
   "cell_type": "code",
   "execution_count": 31,
   "id": "1657a91c",
   "metadata": {},
   "outputs": [
    {
     "data": {
      "text/html": [
       "<div>\n",
       "<style scoped>\n",
       "    .dataframe tbody tr th:only-of-type {\n",
       "        vertical-align: middle;\n",
       "    }\n",
       "\n",
       "    .dataframe tbody tr th {\n",
       "        vertical-align: top;\n",
       "    }\n",
       "\n",
       "    .dataframe thead th {\n",
       "        text-align: right;\n",
       "    }\n",
       "</style>\n",
       "<table border=\"1\" class=\"dataframe\">\n",
       "  <thead>\n",
       "    <tr style=\"text-align: right;\">\n",
       "      <th></th>\n",
       "      <th>anime_id</th>\n",
       "      <th>name</th>\n",
       "      <th>genre</th>\n",
       "      <th>type</th>\n",
       "      <th>episodes</th>\n",
       "      <th>rating</th>\n",
       "      <th>members</th>\n",
       "    </tr>\n",
       "  </thead>\n",
       "  <tbody>\n",
       "    <tr>\n",
       "      <th>8446</th>\n",
       "      <td>19121</td>\n",
       "      <td>Doctor Chichibuyama</td>\n",
       "      <td>Ecchi,Parody,Seinen</td>\n",
       "      <td>TV</td>\n",
       "      <td>2.0</td>\n",
       "      <td>6.15</td>\n",
       "      <td>152</td>\n",
       "    </tr>\n",
       "  </tbody>\n",
       "</table>\n",
       "</div>"
      ],
      "text/plain": [
       "      anime_id                 name                genre type  episodes  \\\n",
       "8446     19121  Doctor Chichibuyama  Ecchi,Parody,Seinen   TV       2.0   \n",
       "\n",
       "      rating  members  \n",
       "8446    6.15      152  "
      ]
     },
     "execution_count": 31,
     "metadata": {},
     "output_type": "execute_result"
    }
   ],
   "source": [
    "TV_anime[TV_anime['episodes']==TV_anime['episodes'].min()]"
   ]
  },
  {
   "cell_type": "markdown",
   "id": "138e5502",
   "metadata": {},
   "source": [
    "let's see which TV anime has the maximum rating, and which has the minimum"
   ]
  },
  {
   "cell_type": "code",
   "execution_count": 32,
   "id": "7dd64502",
   "metadata": {},
   "outputs": [
    {
     "data": {
      "text/html": [
       "<div>\n",
       "<style scoped>\n",
       "    .dataframe tbody tr th:only-of-type {\n",
       "        vertical-align: middle;\n",
       "    }\n",
       "\n",
       "    .dataframe tbody tr th {\n",
       "        vertical-align: top;\n",
       "    }\n",
       "\n",
       "    .dataframe thead th {\n",
       "        text-align: right;\n",
       "    }\n",
       "</style>\n",
       "<table border=\"1\" class=\"dataframe\">\n",
       "  <thead>\n",
       "    <tr style=\"text-align: right;\">\n",
       "      <th></th>\n",
       "      <th>anime_id</th>\n",
       "      <th>name</th>\n",
       "      <th>genre</th>\n",
       "      <th>type</th>\n",
       "      <th>episodes</th>\n",
       "      <th>rating</th>\n",
       "      <th>members</th>\n",
       "    </tr>\n",
       "  </thead>\n",
       "  <tbody>\n",
       "    <tr>\n",
       "      <th>10400</th>\n",
       "      <td>30120</td>\n",
       "      <td>Spoon-hime no Swing Kitchen</td>\n",
       "      <td>Adventure,Kids</td>\n",
       "      <td>TV</td>\n",
       "      <td>NaN</td>\n",
       "      <td>9.6</td>\n",
       "      <td>47</td>\n",
       "    </tr>\n",
       "  </tbody>\n",
       "</table>\n",
       "</div>"
      ],
      "text/plain": [
       "       anime_id                         name           genre type  episodes  \\\n",
       "10400     30120  Spoon-hime no Swing Kitchen  Adventure,Kids   TV       NaN   \n",
       "\n",
       "       rating  members  \n",
       "10400     9.6       47  "
      ]
     },
     "execution_count": 32,
     "metadata": {},
     "output_type": "execute_result"
    }
   ],
   "source": [
    "TV_anime[TV_anime['rating']==TV_anime['rating'].max()]"
   ]
  },
  {
   "cell_type": "code",
   "execution_count": 33,
   "id": "0857eac3",
   "metadata": {},
   "outputs": [
    {
     "data": {
      "text/html": [
       "<div>\n",
       "<style scoped>\n",
       "    .dataframe tbody tr th:only-of-type {\n",
       "        vertical-align: middle;\n",
       "    }\n",
       "\n",
       "    .dataframe tbody tr th {\n",
       "        vertical-align: top;\n",
       "    }\n",
       "\n",
       "    .dataframe thead th {\n",
       "        text-align: right;\n",
       "    }\n",
       "</style>\n",
       "<table border=\"1\" class=\"dataframe\">\n",
       "  <thead>\n",
       "    <tr style=\"text-align: right;\">\n",
       "      <th></th>\n",
       "      <th>anime_id</th>\n",
       "      <th>name</th>\n",
       "      <th>genre</th>\n",
       "      <th>type</th>\n",
       "      <th>episodes</th>\n",
       "      <th>rating</th>\n",
       "      <th>members</th>\n",
       "    </tr>\n",
       "  </thead>\n",
       "  <tbody>\n",
       "    <tr>\n",
       "      <th>9854</th>\n",
       "      <td>29435</td>\n",
       "      <td>Ongaku Sekai Ryokou</td>\n",
       "      <td>Kids,Music</td>\n",
       "      <td>TV</td>\n",
       "      <td>NaN</td>\n",
       "      <td>2.67</td>\n",
       "      <td>45</td>\n",
       "    </tr>\n",
       "  </tbody>\n",
       "</table>\n",
       "</div>"
      ],
      "text/plain": [
       "      anime_id                 name       genre type  episodes  rating  \\\n",
       "9854     29435  Ongaku Sekai Ryokou  Kids,Music   TV       NaN    2.67   \n",
       "\n",
       "      members  \n",
       "9854       45  "
      ]
     },
     "execution_count": 33,
     "metadata": {},
     "output_type": "execute_result"
    }
   ],
   "source": [
    "TV_anime[TV_anime['rating']==TV_anime['rating'].min()]"
   ]
  },
  {
   "cell_type": "markdown",
   "id": "32c94c3b",
   "metadata": {},
   "source": [
    "let's see which TV anime has the maximum members, and which has the minimum"
   ]
  },
  {
   "cell_type": "code",
   "execution_count": 34,
   "id": "0da18d2d",
   "metadata": {},
   "outputs": [
    {
     "data": {
      "text/html": [
       "<div>\n",
       "<style scoped>\n",
       "    .dataframe tbody tr th:only-of-type {\n",
       "        vertical-align: middle;\n",
       "    }\n",
       "\n",
       "    .dataframe tbody tr th {\n",
       "        vertical-align: top;\n",
       "    }\n",
       "\n",
       "    .dataframe thead th {\n",
       "        text-align: right;\n",
       "    }\n",
       "</style>\n",
       "<table border=\"1\" class=\"dataframe\">\n",
       "  <thead>\n",
       "    <tr style=\"text-align: right;\">\n",
       "      <th></th>\n",
       "      <th>anime_id</th>\n",
       "      <th>name</th>\n",
       "      <th>genre</th>\n",
       "      <th>type</th>\n",
       "      <th>episodes</th>\n",
       "      <th>rating</th>\n",
       "      <th>members</th>\n",
       "    </tr>\n",
       "  </thead>\n",
       "  <tbody>\n",
       "    <tr>\n",
       "      <th>40</th>\n",
       "      <td>1535</td>\n",
       "      <td>Death Note</td>\n",
       "      <td>Mystery,Police,Psychological,Supernatural,Thri...</td>\n",
       "      <td>TV</td>\n",
       "      <td>37.0</td>\n",
       "      <td>8.71</td>\n",
       "      <td>1013917</td>\n",
       "    </tr>\n",
       "  </tbody>\n",
       "</table>\n",
       "</div>"
      ],
      "text/plain": [
       "    anime_id        name                                              genre  \\\n",
       "40      1535  Death Note  Mystery,Police,Psychological,Supernatural,Thri...   \n",
       "\n",
       "   type  episodes  rating  members  \n",
       "40   TV      37.0    8.71  1013917  "
      ]
     },
     "execution_count": 34,
     "metadata": {},
     "output_type": "execute_result"
    }
   ],
   "source": [
    "TV_anime[TV_anime['members']==TV_anime['members'].max()]\n"
   ]
  },
  {
   "cell_type": "code",
   "execution_count": 35,
   "id": "9be355c2",
   "metadata": {},
   "outputs": [
    {
     "data": {
      "text/html": [
       "<div>\n",
       "<style scoped>\n",
       "    .dataframe tbody tr th:only-of-type {\n",
       "        vertical-align: middle;\n",
       "    }\n",
       "\n",
       "    .dataframe tbody tr th {\n",
       "        vertical-align: top;\n",
       "    }\n",
       "\n",
       "    .dataframe thead th {\n",
       "        text-align: right;\n",
       "    }\n",
       "</style>\n",
       "<table border=\"1\" class=\"dataframe\">\n",
       "  <thead>\n",
       "    <tr style=\"text-align: right;\">\n",
       "      <th></th>\n",
       "      <th>anime_id</th>\n",
       "      <th>name</th>\n",
       "      <th>genre</th>\n",
       "      <th>type</th>\n",
       "      <th>episodes</th>\n",
       "      <th>rating</th>\n",
       "      <th>members</th>\n",
       "    </tr>\n",
       "  </thead>\n",
       "  <tbody>\n",
       "    <tr>\n",
       "      <th>10444</th>\n",
       "      <td>34490</td>\n",
       "      <td>Sushi Azarashi</td>\n",
       "      <td>Comedy</td>\n",
       "      <td>TV</td>\n",
       "      <td>30.0</td>\n",
       "      <td>3.0</td>\n",
       "      <td>12</td>\n",
       "    </tr>\n",
       "  </tbody>\n",
       "</table>\n",
       "</div>"
      ],
      "text/plain": [
       "       anime_id            name   genre type  episodes  rating  members\n",
       "10444     34490  Sushi Azarashi  Comedy   TV      30.0     3.0       12"
      ]
     },
     "execution_count": 35,
     "metadata": {},
     "output_type": "execute_result"
    }
   ],
   "source": [
    "TV_anime[TV_anime['members']==TV_anime['members'].min()]"
   ]
  },
  {
   "cell_type": "markdown",
   "id": "ea070dd4",
   "metadata": {},
   "source": [
    "let's see the distribution plots of rating, members"
   ]
  },
  {
   "cell_type": "code",
   "execution_count": 36,
   "id": "150017b3",
   "metadata": {},
   "outputs": [
    {
     "name": "stderr",
     "output_type": "stream",
     "text": [
      "C:\\Users\\jermi\\AppData\\Local\\Temp\\ipykernel_28660\\1760438478.py:4: UserWarning: \n",
      "\n",
      "`distplot` is a deprecated function and will be removed in seaborn v0.14.0.\n",
      "\n",
      "Please adapt your code to use either `displot` (a figure-level function with\n",
      "similar flexibility) or `histplot` (an axes-level function for histograms).\n",
      "\n",
      "For a guide to updating your code to use the new functions, please see\n",
      "https://gist.github.com/mwaskom/de44147ed2974457ad6372750bbe5751\n",
      "\n",
      "  sns.distplot(TV_anime[i],ax=ax)\n",
      "C:\\Users\\jermi\\AppData\\Local\\Temp\\ipykernel_28660\\1760438478.py:4: UserWarning: \n",
      "\n",
      "`distplot` is a deprecated function and will be removed in seaborn v0.14.0.\n",
      "\n",
      "Please adapt your code to use either `displot` (a figure-level function with\n",
      "similar flexibility) or `histplot` (an axes-level function for histograms).\n",
      "\n",
      "For a guide to updating your code to use the new functions, please see\n",
      "https://gist.github.com/mwaskom/de44147ed2974457ad6372750bbe5751\n",
      "\n",
      "  sns.distplot(TV_anime[i],ax=ax)\n"
     ]
    },
    {
     "data": {
      "image/png": "[encoded data removed]",
      "text/plain": [
       "<Figure size 1300x500 with 2 Axes>"
      ]
     },
     "metadata": {},
     "output_type": "display_data"
    }
   ],
   "source": [
    "fig=plt.figure(figsize=(13,5))\n",
    "for i,j in zip(TV_anime[['rating','members']].columns,range(3)):\n",
    "    ax=fig.add_subplot(1,2,j+1)\n",
    "    sns.distplot(TV_anime[i],ax=ax)\n",
    "    plt.axvline(TV_anime[i].mean(),label='mean',color='blue')\n",
    "    plt.axvline(TV_anime[i].median(),label='median',color='green')\n",
    "    plt.axvline(TV_anime[i].std(),label='std',color='red')\n",
    "    plt.title('{} distribtion'.format(i))\n",
    "    plt.legend()\n",
    "plt.show()"
   ]
  },
  {
   "cell_type": "code",
   "execution_count": 39,
   "id": "59c93088",
   "metadata": {},
   "outputs": [
    {
     "data": {
      "text/plain": [
       "73516"
      ]
     },
     "execution_count": 39,
     "metadata": {},
     "output_type": "execute_result"
    }
   ],
   "source": [
    "rating['user_id'].max()"
   ]
  },
  {
   "cell_type": "code",
   "execution_count": 40,
   "id": "68de011c",
   "metadata": {},
   "outputs": [],
   "source": [
    "MRPU = rating.groupby(['user_id']).mean().reset_index()\n",
    "MRPU['mean_rating'] = MRPU['rating']\n",
    "\n",
    "MRPU.drop(['anime_id','rating'],axis=1, inplace=True)"
   ]
  },
  {
   "cell_type": "code",
   "execution_count": 41,
   "id": "c2fcfdc4",
   "metadata": {},
   "outputs": [
    {
     "data": {
      "text/html": [
       "<div>\n",
       "<style scoped>\n",
       "    .dataframe tbody tr th:only-of-type {\n",
       "        vertical-align: middle;\n",
       "    }\n",
       "\n",
       "    .dataframe tbody tr th {\n",
       "        vertical-align: top;\n",
       "    }\n",
       "\n",
       "    .dataframe thead th {\n",
       "        text-align: right;\n",
       "    }\n",
       "</style>\n",
       "<table border=\"1\" class=\"dataframe\">\n",
       "  <thead>\n",
       "    <tr style=\"text-align: right;\">\n",
       "      <th></th>\n",
       "      <th>user_id</th>\n",
       "      <th>mean_rating</th>\n",
       "    </tr>\n",
       "  </thead>\n",
       "  <tbody>\n",
       "    <tr>\n",
       "      <th>0</th>\n",
       "      <td>1</td>\n",
       "      <td>-0.712418</td>\n",
       "    </tr>\n",
       "    <tr>\n",
       "      <th>1</th>\n",
       "      <td>2</td>\n",
       "      <td>2.666667</td>\n",
       "    </tr>\n",
       "    <tr>\n",
       "      <th>2</th>\n",
       "      <td>3</td>\n",
       "      <td>7.382979</td>\n",
       "    </tr>\n",
       "    <tr>\n",
       "      <th>3</th>\n",
       "      <td>4</td>\n",
       "      <td>-1.000000</td>\n",
       "    </tr>\n",
       "    <tr>\n",
       "      <th>4</th>\n",
       "      <td>5</td>\n",
       "      <td>4.263383</td>\n",
       "    </tr>\n",
       "    <tr>\n",
       "      <th>5</th>\n",
       "      <td>6</td>\n",
       "      <td>-1.000000</td>\n",
       "    </tr>\n",
       "    <tr>\n",
       "      <th>6</th>\n",
       "      <td>7</td>\n",
       "      <td>7.387755</td>\n",
       "    </tr>\n",
       "    <tr>\n",
       "      <th>7</th>\n",
       "      <td>8</td>\n",
       "      <td>8.333333</td>\n",
       "    </tr>\n",
       "    <tr>\n",
       "      <th>8</th>\n",
       "      <td>9</td>\n",
       "      <td>8.000000</td>\n",
       "    </tr>\n",
       "    <tr>\n",
       "      <th>9</th>\n",
       "      <td>10</td>\n",
       "      <td>2.875000</td>\n",
       "    </tr>\n",
       "  </tbody>\n",
       "</table>\n",
       "</div>"
      ],
      "text/plain": [
       "   user_id  mean_rating\n",
       "0        1    -0.712418\n",
       "1        2     2.666667\n",
       "2        3     7.382979\n",
       "3        4    -1.000000\n",
       "4        5     4.263383\n",
       "5        6    -1.000000\n",
       "6        7     7.387755\n",
       "7        8     8.333333\n",
       "8        9     8.000000\n",
       "9       10     2.875000"
      ]
     },
     "execution_count": 41,
     "metadata": {},
     "output_type": "execute_result"
    }
   ],
   "source": [
    "MRPU.head(10)"
   ]
  },
  {
   "cell_type": "code",
   "execution_count": 45,
   "id": "29447a77",
   "metadata": {},
   "outputs": [],
   "source": [
    "user = pd.merge(rating,MRPU,on=['user_id','user_id'])"
   ]
  },
  {
   "cell_type": "code",
   "execution_count": 46,
   "id": "8855b04d",
   "metadata": {},
   "outputs": [
    {
     "data": {
      "text/html": [
       "<div>\n",
       "<style scoped>\n",
       "    .dataframe tbody tr th:only-of-type {\n",
       "        vertical-align: middle;\n",
       "    }\n",
       "\n",
       "    .dataframe tbody tr th {\n",
       "        vertical-align: top;\n",
       "    }\n",
       "\n",
       "    .dataframe thead th {\n",
       "        text-align: right;\n",
       "    }\n",
       "</style>\n",
       "<table border=\"1\" class=\"dataframe\">\n",
       "  <thead>\n",
       "    <tr style=\"text-align: right;\">\n",
       "      <th></th>\n",
       "      <th>user_id</th>\n",
       "      <th>anime_id</th>\n",
       "      <th>rating</th>\n",
       "      <th>mean_rating</th>\n",
       "    </tr>\n",
       "  </thead>\n",
       "  <tbody>\n",
       "    <tr>\n",
       "      <th>0</th>\n",
       "      <td>1</td>\n",
       "      <td>20</td>\n",
       "      <td>-1</td>\n",
       "      <td>-0.712418</td>\n",
       "    </tr>\n",
       "    <tr>\n",
       "      <th>1</th>\n",
       "      <td>1</td>\n",
       "      <td>24</td>\n",
       "      <td>-1</td>\n",
       "      <td>-0.712418</td>\n",
       "    </tr>\n",
       "    <tr>\n",
       "      <th>2</th>\n",
       "      <td>1</td>\n",
       "      <td>79</td>\n",
       "      <td>-1</td>\n",
       "      <td>-0.712418</td>\n",
       "    </tr>\n",
       "    <tr>\n",
       "      <th>3</th>\n",
       "      <td>1</td>\n",
       "      <td>226</td>\n",
       "      <td>-1</td>\n",
       "      <td>-0.712418</td>\n",
       "    </tr>\n",
       "    <tr>\n",
       "      <th>4</th>\n",
       "      <td>1</td>\n",
       "      <td>241</td>\n",
       "      <td>-1</td>\n",
       "      <td>-0.712418</td>\n",
       "    </tr>\n",
       "  </tbody>\n",
       "</table>\n",
       "</div>"
      ],
      "text/plain": [
       "   user_id  anime_id  rating  mean_rating\n",
       "0        1        20      -1    -0.712418\n",
       "1        1        24      -1    -0.712418\n",
       "2        1        79      -1    -0.712418\n",
       "3        1       226      -1    -0.712418\n",
       "4        1       241      -1    -0.712418"
      ]
     },
     "execution_count": 46,
     "metadata": {},
     "output_type": "execute_result"
    }
   ],
   "source": [
    "user.head(5)"
   ]
  },
  {
   "cell_type": "code",
   "execution_count": 48,
   "id": "927e9f3b",
   "metadata": {},
   "outputs": [
    {
     "data": {
      "text/html": [
       "<div>\n",
       "<style scoped>\n",
       "    .dataframe tbody tr th:only-of-type {\n",
       "        vertical-align: middle;\n",
       "    }\n",
       "\n",
       "    .dataframe tbody tr th {\n",
       "        vertical-align: top;\n",
       "    }\n",
       "\n",
       "    .dataframe thead th {\n",
       "        text-align: right;\n",
       "    }\n",
       "</style>\n",
       "<table border=\"1\" class=\"dataframe\">\n",
       "  <thead>\n",
       "    <tr style=\"text-align: right;\">\n",
       "      <th></th>\n",
       "      <th>anime_id</th>\n",
       "      <th>name</th>\n",
       "      <th>genre</th>\n",
       "      <th>type</th>\n",
       "      <th>episodes</th>\n",
       "      <th>rating_x</th>\n",
       "      <th>members</th>\n",
       "      <th>user_id</th>\n",
       "      <th>rating_y</th>\n",
       "      <th>mean_rating</th>\n",
       "    </tr>\n",
       "  </thead>\n",
       "  <tbody>\n",
       "    <tr>\n",
       "      <th>0</th>\n",
       "      <td>32281</td>\n",
       "      <td>Kimi no Na wa.</td>\n",
       "      <td>Drama,Romance,School,Supernatural</td>\n",
       "      <td>Movie</td>\n",
       "      <td>1.0</td>\n",
       "      <td>9.37</td>\n",
       "      <td>200630</td>\n",
       "      <td>99</td>\n",
       "      <td>5</td>\n",
       "      <td>5.687023</td>\n",
       "    </tr>\n",
       "    <tr>\n",
       "      <th>1</th>\n",
       "      <td>32281</td>\n",
       "      <td>Kimi no Na wa.</td>\n",
       "      <td>Drama,Romance,School,Supernatural</td>\n",
       "      <td>Movie</td>\n",
       "      <td>1.0</td>\n",
       "      <td>9.37</td>\n",
       "      <td>200630</td>\n",
       "      <td>152</td>\n",
       "      <td>10</td>\n",
       "      <td>7.699301</td>\n",
       "    </tr>\n",
       "    <tr>\n",
       "      <th>2</th>\n",
       "      <td>32281</td>\n",
       "      <td>Kimi no Na wa.</td>\n",
       "      <td>Drama,Romance,School,Supernatural</td>\n",
       "      <td>Movie</td>\n",
       "      <td>1.0</td>\n",
       "      <td>9.37</td>\n",
       "      <td>200630</td>\n",
       "      <td>244</td>\n",
       "      <td>10</td>\n",
       "      <td>8.729242</td>\n",
       "    </tr>\n",
       "    <tr>\n",
       "      <th>3</th>\n",
       "      <td>32281</td>\n",
       "      <td>Kimi no Na wa.</td>\n",
       "      <td>Drama,Romance,School,Supernatural</td>\n",
       "      <td>Movie</td>\n",
       "      <td>1.0</td>\n",
       "      <td>9.37</td>\n",
       "      <td>200630</td>\n",
       "      <td>271</td>\n",
       "      <td>10</td>\n",
       "      <td>7.372287</td>\n",
       "    </tr>\n",
       "    <tr>\n",
       "      <th>4</th>\n",
       "      <td>32281</td>\n",
       "      <td>Kimi no Na wa.</td>\n",
       "      <td>Drama,Romance,School,Supernatural</td>\n",
       "      <td>Movie</td>\n",
       "      <td>1.0</td>\n",
       "      <td>9.37</td>\n",
       "      <td>200630</td>\n",
       "      <td>278</td>\n",
       "      <td>-1</td>\n",
       "      <td>4.181818</td>\n",
       "    </tr>\n",
       "    <tr>\n",
       "      <th>5</th>\n",
       "      <td>32281</td>\n",
       "      <td>Kimi no Na wa.</td>\n",
       "      <td>Drama,Romance,School,Supernatural</td>\n",
       "      <td>Movie</td>\n",
       "      <td>1.0</td>\n",
       "      <td>9.37</td>\n",
       "      <td>200630</td>\n",
       "      <td>322</td>\n",
       "      <td>10</td>\n",
       "      <td>8.356322</td>\n",
       "    </tr>\n",
       "    <tr>\n",
       "      <th>6</th>\n",
       "      <td>32281</td>\n",
       "      <td>Kimi no Na wa.</td>\n",
       "      <td>Drama,Romance,School,Supernatural</td>\n",
       "      <td>Movie</td>\n",
       "      <td>1.0</td>\n",
       "      <td>9.37</td>\n",
       "      <td>200630</td>\n",
       "      <td>398</td>\n",
       "      <td>10</td>\n",
       "      <td>-0.832298</td>\n",
       "    </tr>\n",
       "    <tr>\n",
       "      <th>7</th>\n",
       "      <td>32281</td>\n",
       "      <td>Kimi no Na wa.</td>\n",
       "      <td>Drama,Romance,School,Supernatural</td>\n",
       "      <td>Movie</td>\n",
       "      <td>1.0</td>\n",
       "      <td>9.37</td>\n",
       "      <td>200630</td>\n",
       "      <td>462</td>\n",
       "      <td>8</td>\n",
       "      <td>7.374593</td>\n",
       "    </tr>\n",
       "    <tr>\n",
       "      <th>8</th>\n",
       "      <td>32281</td>\n",
       "      <td>Kimi no Na wa.</td>\n",
       "      <td>Drama,Romance,School,Supernatural</td>\n",
       "      <td>Movie</td>\n",
       "      <td>1.0</td>\n",
       "      <td>9.37</td>\n",
       "      <td>200630</td>\n",
       "      <td>490</td>\n",
       "      <td>10</td>\n",
       "      <td>8.062500</td>\n",
       "    </tr>\n",
       "    <tr>\n",
       "      <th>9</th>\n",
       "      <td>32281</td>\n",
       "      <td>Kimi no Na wa.</td>\n",
       "      <td>Drama,Romance,School,Supernatural</td>\n",
       "      <td>Movie</td>\n",
       "      <td>1.0</td>\n",
       "      <td>9.37</td>\n",
       "      <td>200630</td>\n",
       "      <td>548</td>\n",
       "      <td>10</td>\n",
       "      <td>8.112360</td>\n",
       "    </tr>\n",
       "  </tbody>\n",
       "</table>\n",
       "</div>"
      ],
      "text/plain": [
       "   anime_id            name                              genre   type  \\\n",
       "0     32281  Kimi no Na wa.  Drama,Romance,School,Supernatural  Movie   \n",
       "1     32281  Kimi no Na wa.  Drama,Romance,School,Supernatural  Movie   \n",
       "2     32281  Kimi no Na wa.  Drama,Romance,School,Supernatural  Movie   \n",
       "3     32281  Kimi no Na wa.  Drama,Romance,School,Supernatural  Movie   \n",
       "4     32281  Kimi no Na wa.  Drama,Romance,School,Supernatural  Movie   \n",
       "5     32281  Kimi no Na wa.  Drama,Romance,School,Supernatural  Movie   \n",
       "6     32281  Kimi no Na wa.  Drama,Romance,School,Supernatural  Movie   \n",
       "7     32281  Kimi no Na wa.  Drama,Romance,School,Supernatural  Movie   \n",
       "8     32281  Kimi no Na wa.  Drama,Romance,School,Supernatural  Movie   \n",
       "9     32281  Kimi no Na wa.  Drama,Romance,School,Supernatural  Movie   \n",
       "\n",
       "   episodes  rating_x  members  user_id  rating_y  mean_rating  \n",
       "0       1.0      9.37   200630       99         5     5.687023  \n",
       "1       1.0      9.37   200630      152        10     7.699301  \n",
       "2       1.0      9.37   200630      244        10     8.729242  \n",
       "3       1.0      9.37   200630      271        10     7.372287  \n",
       "4       1.0      9.37   200630      278        -1     4.181818  \n",
       "5       1.0      9.37   200630      322        10     8.356322  \n",
       "6       1.0      9.37   200630      398        10    -0.832298  \n",
       "7       1.0      9.37   200630      462         8     7.374593  \n",
       "8       1.0      9.37   200630      490        10     8.062500  \n",
       "9       1.0      9.37   200630      548        10     8.112360  "
      ]
     },
     "execution_count": 48,
     "metadata": {},
     "output_type": "execute_result"
    }
   ],
   "source": [
    "# merge 2 dataset\n",
    "mergedata = pd.merge(anime,user,on=['anime_id','anime_id'])\n",
    "mergedata.head(10)"
   ]
  },
  {
   "cell_type": "code",
   "execution_count": 50,
   "id": "2a406489",
   "metadata": {},
   "outputs": [
    {
     "data": {
      "text/plain": [
       "(7813725, 10)"
      ]
     },
     "execution_count": 50,
     "metadata": {},
     "output_type": "execute_result"
    }
   ],
   "source": [
    "mergedata.shape"
   ]
  },
  {
   "cell_type": "code",
   "execution_count": 49,
   "id": "2e3d5b20",
   "metadata": {},
   "outputs": [],
   "source": [
    "mergedata.to_csv(\"merged_anime_data.csv\", index=False)"
   ]
  }
 ],
 "metadata": {
  "kernelspec": {
   "display_name": "cf310",
   "language": "python",
   "name": "python3"
  },
  "language_info": {
   "codemirror_mode": {
    "name": "ipython",
    "version": 3
   },
   "file_extension": ".py",
   "mimetype": "text/x-python",
   "name": "python",
   "nbconvert_exporter": "python",
   "pygments_lexer": "ipython3",
   "version": "3.10.18"
  }
 },
 "nbformat": 4,
 "nbformat_minor": 5
}
