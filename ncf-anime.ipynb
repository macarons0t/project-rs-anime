{
 "cells": [
  {
   "cell_type": "code",
   "execution_count": null,
   "id": "75717f0a",
   "metadata": {},
   "outputs": [],
   "source": []
  }
 ],
 "metadata": {
  "language_info": {
   "name": "python"
  }
 },
 "nbformat": 4,
 "nbformat_minor": 5
}
